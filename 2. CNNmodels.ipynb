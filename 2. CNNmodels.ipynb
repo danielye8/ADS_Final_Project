{
 "cells": [
  {
   "cell_type": "code",
   "execution_count": 1,
   "metadata": {},
   "outputs": [
    {
     "name": "stdout",
     "output_type": "stream",
     "text": [
      "CPU times: user 2.92 s, sys: 3.99 s, total: 6.91 s\n",
      "Wall time: 2.26 s\n"
     ]
    }
   ],
   "source": [
    "%%time\n",
    "import matplotlib.pyplot as plt\n",
    "from sklearn.model_selection import train_test_split\n",
    "from keras.datasets import mnist\n",
    "from keras.models import Sequential\n",
    "from keras.utils.np_utils import to_categorical\n",
    "import numpy as np\n",
    "from sklearn.ensemble import VotingClassifier\n",
    "from sklearn.metrics import accuracy_score\n",
    "from keras.models import Sequential\n",
    "from keras.layers import Activation, Dense\n",
    "from keras import optimizers\n",
    "from keras.layers import BatchNormalization, Dropout\n",
    "from keras.wrappers.scikit_learn import KerasClassifier\n",
    "%matplotlib inline\n",
    "import keras\n",
    "from keras.datasets import mnist\n",
    "from keras.models import Sequential\n",
    "from keras.layers import Flatten\n",
    "from keras.layers import Conv2D, MaxPooling2D\n",
    "from keras import backend as K\n",
    "from keras.layers import LeakyReLU\n",
    "import matplotlib.pyplot as plt\n",
    "from emnist import extract_training_samples\n",
    "from emnist import extract_test_samples\n",
    "from keras.utils import np_utils\n",
    "from matplotlib import pyplot\n",
    "from keras.callbacks import EarlyStopping, ModelCheckpoint\n",
    "import pickle\n",
    "from sklearn.model_selection import train_test_split\n",
    "from sklearn.preprocessing import LabelEncoder\n",
    "from PIL import Image\n",
    "from keras.preprocessing.image import ImageDataGenerator\n",
    "from keras.callbacks import LearningRateScheduler, ModelCheckpoint\n",
    "from keras.models import Sequential\n",
    "from keras.layers import Dense, Dropout, Activation, Flatten\n",
    "from keras.layers import Conv2D, MaxPooling2D\n",
    "from keras.preprocessing.image import ImageDataGenerator, array_to_img, img_to_array, load_img\n",
    "from keras.utils import plot_model, to_categorical\n",
    "from keras.callbacks import EarlyStopping, ModelCheckpoint\n",
    "import pandas as pd\n",
    "import time\n",
    "import os\n"
   ]
  },
  {
   "cell_type": "code",
   "execution_count": 69,
   "metadata": {},
   "outputs": [],
   "source": [
    "\n",
    "from numpy import mean\n",
    "from numpy import std\n",
    "from matplotlib import pyplot\n",
    "from sklearn.model_selection import KFold\n",
    "from keras.datasets import mnist\n",
    "from keras.utils import to_categorical\n",
    "from keras.models import Sequential\n",
    "from keras.layers import Conv2D\n",
    "from keras.layers import MaxPooling2D\n",
    "from keras.layers import Dense\n",
    "from keras.layers import Flatten\n",
    "from keras.optimizers import SGD"
   ]
  },
  {
   "cell_type": "markdown",
   "metadata": {},
   "source": [
    "## Global parameters, data formating and optimiser implimentations\n",
    "\n",
    "- image augmentation\n",
    "- early stopping "
   ]
  },
  {
   "cell_type": "code",
   "execution_count": 4,
   "metadata": {},
   "outputs": [],
   "source": [
    "#Global para's\n",
    "\n",
    "img_width, img_height = 28, 28\n",
    "leaky_relu_alpha = 0.1"
   ]
  },
  {
   "cell_type": "code",
   "execution_count": 5,
   "metadata": {},
   "outputs": [],
   "source": [
    "X_train, y_train = extract_training_samples('letters')\n",
    "X_test, y_test = extract_test_samples('letters')"
   ]
  },
  {
   "cell_type": "code",
   "execution_count": 6,
   "metadata": {},
   "outputs": [
    {
     "name": "stdout",
     "output_type": "stream",
     "text": [
      "(124800, 28, 28)\n",
      "(20800, 28, 28)\n",
      "(124800,)\n",
      "(20800,)\n"
     ]
    }
   ],
   "source": [
    "print(X_train.shape)\n",
    "print(X_test.shape)\n",
    "print(y_train.shape)\n",
    "print(y_test.shape)"
   ]
  },
  {
   "cell_type": "code",
   "execution_count": 7,
   "metadata": {},
   "outputs": [],
   "source": [
    "num_pixels = X_train.shape[1] * X_train.shape[2]"
   ]
  },
  {
   "cell_type": "code",
   "execution_count": 8,
   "metadata": {},
   "outputs": [],
   "source": [
    "if K.image_data_format() == 'channels_first':\n",
    "    X_trainCNN = X_train.reshape(X_train.shape[0], 1, img_width, img_height)\n",
    "    X_testCNN = X_test.reshape(X_test.shape[0], 1, img_width, img_height)\n",
    "    CNNinput_shape = (1, img_width, img_height)\n",
    "else:\n",
    "    X_trainCNN = X_train.reshape(X_train.shape[0], img_width, img_height, 1)\n",
    "    X_testCNN = X_test.reshape(X_test.shape[0], img_width, img_height, 1)\n",
    "    CNNinput_shape = (img_width, img_height, 1)"
   ]
  },
  {
   "cell_type": "code",
   "execution_count": 9,
   "metadata": {},
   "outputs": [],
   "source": [
    "y_train = np_utils.to_categorical(y_train)\n",
    "y_test = np_utils.to_categorical(y_test)\n",
    "num_classes = y_test.shape[1]\n"
   ]
  },
  {
   "cell_type": "code",
   "execution_count": null,
   "metadata": {},
   "outputs": [],
   "source": [
    "img_gen = ImageDataGenerator(\n",
    "            featurewise_center=False,  # set input mean to 0 over the dataset\n",
    "            samplewise_center=False,  # set each sample mean to 0\n",
    "            featurewise_std_normalization=False,  # divide inputs by std of the dataset\n",
    "            samplewise_std_normalization=False,  # divide each input by its std\n",
    "            zca_whitening=False,  # apply ZCA whitening\n",
    "            rotation_range=30,  # randomly rotate images in the range (degrees, 0 to 180)\n",
    "            horizontal_flip=False,  # randomly flip images\n",
    "            vertical_flip=False)"
   ]
  },
  {
   "cell_type": "code",
   "execution_count": null,
   "metadata": {},
   "outputs": [],
   "source": [
    "if not os.path.isdir(\"models\"):\n",
    "    os.makedirs(\"models\")\n",
    "    \n",
    "filepath=\"models/weights_3conv_%s.hdf5\" % time.strftime(\"%d%m%Y\")\n",
    "\n",
    "checkpointer = ModelCheckpoint(filepath, monitor='val_acc', verbose=1, save_best_only=True, mode=\"max\")\n",
    "# create an Early Stopping callback\n",
    "early_stopping = EarlyStopping(patience=15)\n",
    "\n",
    "custom_early_stopping = EarlyStopping(\n",
    "    monitor='val_accuracy', \n",
    "    patience=8, \n",
    "    min_delta=0.001, \n",
    "    mode='max'\n",
    ")"
   ]
  },
  {
   "cell_type": "markdown",
   "metadata": {},
   "source": [
    "## Modeling Phase"
   ]
  },
  {
   "cell_type": "code",
   "execution_count": 12,
   "metadata": {},
   "outputs": [
    {
     "data": {
      "text/plain": [
       "\"    model.add(Flatten())\\n    model.add(Dense(128))\\n    \\n    model.add(Activation('relu'))\\n    model.add(Dropout(0.2))\""
      ]
     },
     "execution_count": 12,
     "metadata": {},
     "output_type": "execute_result"
    }
   ],
   "source": [
    "def conv_model(stride = 3, pool_size = 2):\n",
    "    \n",
    "    \"\"\"\n",
    "    CNN Keras model with 6 convolutions.\n",
    "\n",
    "    \"\"\"\n",
    "\n",
    "            \n",
    "    model = Sequential()\n",
    "    \n",
    "    model.add(Conv2D(16, (stride, stride), padding='same', input_shape=CNNinput_shape))\n",
    "    model.add(Activation('relu'))\n",
    "    \n",
    "    model.add(Conv2D(16, (stride, stride)))\n",
    "    model.add(Activation('relu'))\n",
    "    \n",
    "    model.add(MaxPooling2D(pool_size=(pool_size, pool_size)))\n",
    "    model.add(Dropout(0.2))\n",
    "    \n",
    "    model.add(Conv2D(32, (stride, stride), padding='same'))\n",
    "    model.add(Activation('relu'))\n",
    "    \n",
    "    model.add(Conv2D(32, (stride, stride), padding='same'))\n",
    "    model.add(Activation('relu'))\n",
    "    \n",
    "    model.add(MaxPooling2D(pool_size=(pool_size, pool_size)))\n",
    "    model.add(Dropout(0.2))\n",
    "    \n",
    "    model.add(Flatten())\n",
    "    model.add(Dense(64, activation='relu', kernel_initializer='he_uniform'))\n",
    "    \n",
    "    model.add(Dense(num_classes, activation='softmax'))\n",
    "    \n",
    "    adam = optimizers.Adam(lr = 0.001)\n",
    "    model.compile(optimizer = adam, loss = 'categorical_crossentropy', metrics = ['accuracy'])\n",
    "    \n",
    "    return model\n",
    "    \n",
    "'''    model.add(Conv2D(128, (stride, stride), padding='same'))\n",
    "    model.add(Activation('relu'))\n",
    "    \n",
    "    model.add(Conv2D(128, (stride, stride), padding='same'))\n",
    "    model.add(Activation('relu'))\n",
    "    \n",
    "    model.add(MaxPooling2D(pool_size=(pool_size, pool_size)))\n",
    "    model.add(Dropout(0.25))'''\n",
    "    \n",
    "    \n",
    "'''    model.add(Flatten())\n",
    "    model.add(Dense(128))\n",
    "    \n",
    "    model.add(Activation('relu'))\n",
    "    model.add(Dropout(0.2))'''\n",
    "\n"
   ]
  },
  {
   "cell_type": "code",
   "execution_count": 18,
   "metadata": {},
   "outputs": [
    {
     "name": "stdout",
     "output_type": "stream",
     "text": [
      "Model: \"sequential\"\n",
      "_________________________________________________________________\n",
      "Layer (type)                 Output Shape              Param #   \n",
      "=================================================================\n",
      "conv2d (Conv2D)              (None, 28, 28, 16)        160       \n",
      "_________________________________________________________________\n",
      "activation (Activation)      (None, 28, 28, 16)        0         \n",
      "_________________________________________________________________\n",
      "conv2d_1 (Conv2D)            (None, 26, 26, 16)        2320      \n",
      "_________________________________________________________________\n",
      "activation_1 (Activation)    (None, 26, 26, 16)        0         \n",
      "_________________________________________________________________\n",
      "max_pooling2d (MaxPooling2D) (None, 13, 13, 16)        0         \n",
      "_________________________________________________________________\n",
      "dropout (Dropout)            (None, 13, 13, 16)        0         \n",
      "_________________________________________________________________\n",
      "conv2d_2 (Conv2D)            (None, 13, 13, 32)        4640      \n",
      "_________________________________________________________________\n",
      "activation_2 (Activation)    (None, 13, 13, 32)        0         \n",
      "_________________________________________________________________\n",
      "conv2d_3 (Conv2D)            (None, 13, 13, 32)        9248      \n",
      "_________________________________________________________________\n",
      "activation_3 (Activation)    (None, 13, 13, 32)        0         \n",
      "_________________________________________________________________\n",
      "max_pooling2d_1 (MaxPooling2 (None, 6, 6, 32)          0         \n",
      "_________________________________________________________________\n",
      "dropout_1 (Dropout)          (None, 6, 6, 32)          0         \n",
      "_________________________________________________________________\n",
      "flatten (Flatten)            (None, 1152)              0         \n",
      "_________________________________________________________________\n",
      "dense (Dense)                (None, 64)                73792     \n",
      "_________________________________________________________________\n",
      "dense_1 (Dense)              (None, 27)                1755      \n",
      "=================================================================\n",
      "Total params: 91,915\n",
      "Trainable params: 91,915\n",
      "Non-trainable params: 0\n",
      "_________________________________________________________________\n"
     ]
    }
   ],
   "source": [
    "cnn_model = conv_model()\n",
    "cnn_model.summary()"
   ]
  },
  {
   "cell_type": "code",
   "execution_count": 30,
   "metadata": {
    "scrolled": true
   },
   "outputs": [
    {
     "name": "stdout",
     "output_type": "stream",
     "text": [
      "Epoch 1/10\n",
      "3900/3900 - 36s - loss: 0.2446 - accuracy: 0.9180 - val_loss: 0.2007 - val_accuracy: 0.9349\n",
      "Epoch 2/10\n",
      "3900/3900 - 35s - loss: 0.2395 - accuracy: 0.9195 - val_loss: 0.2058 - val_accuracy: 0.9332\n",
      "Epoch 3/10\n",
      "3900/3900 - 36s - loss: 0.2374 - accuracy: 0.9198 - val_loss: 0.1993 - val_accuracy: 0.9335\n",
      "Epoch 4/10\n",
      "3900/3900 - 35s - loss: 0.2326 - accuracy: 0.9222 - val_loss: 0.2126 - val_accuracy: 0.9305\n",
      "Epoch 5/10\n",
      "3900/3900 - 36s - loss: 0.2298 - accuracy: 0.9229 - val_loss: 0.1946 - val_accuracy: 0.9361\n",
      "Epoch 6/10\n",
      "3900/3900 - 36s - loss: 0.2247 - accuracy: 0.9245 - val_loss: 0.1990 - val_accuracy: 0.9343\n",
      "Epoch 7/10\n",
      "3900/3900 - 36s - loss: 0.2242 - accuracy: 0.9233 - val_loss: 0.2127 - val_accuracy: 0.9325\n",
      "Epoch 8/10\n",
      "3900/3900 - 35s - loss: 0.2242 - accuracy: 0.9250 - val_loss: 0.2064 - val_accuracy: 0.9313\n",
      "Epoch 9/10\n",
      "3900/3900 - 36s - loss: 0.2202 - accuracy: 0.9251 - val_loss: 0.1924 - val_accuracy: 0.9365\n",
      "Epoch 10/10\n",
      "3900/3900 - 36s - loss: 0.2198 - accuracy: 0.9254 - val_loss: 0.1935 - val_accuracy: 0.9370\n",
      "Baseline Error: 6.30%\n",
      "Test loss for base CNN: 0.19354405999183655 / Test accuracy: 0.9370192289352417\n",
      "CPU times: user 1h 39min 6s, sys: 10min 7s, total: 1h 49min 14s\n",
      "Wall time: 6min\n"
     ]
    }
   ],
   "source": [
    "%%time\n",
    "\n",
    "cnn_model = conv_model()\n",
    "cnn_model.summary()\n",
    "\n",
    "CNNHistory = cnn_model.fit(img_gen.flow(X_trainCNN, y_train), validation_data=(X_testCNN, y_test), epochs=10, \n",
    "                        batch_size = 200, verbose=2)\n",
    "\n",
    "CNN_scores = cnn_model.evaluate(X_testCNN, y_test, verbose=0)\n",
    "\n",
    "print(\"Baseline Error: %.2f%%\" % (100-CNN_scores[1]*100))\n",
    "print(f'Test loss for base CNN: {CNN_scores[0]} / Test accuracy: {CNN_scores[1]}')"
   ]
  },
  {
   "cell_type": "code",
   "execution_count": 31,
   "metadata": {},
   "outputs": [
    {
     "data": {
      "image/png": "[encoded data removed]",
      "text/plain": [
       "<Figure size 432x288 with 1 Axes>"
      ]
     },
     "metadata": {
      "needs_background": "light"
     },
     "output_type": "display_data"
    },
    {
     "data": {
      "image/png": "[encoded data removed]",
      "text/plain": [
       "<Figure size 432x288 with 1 Axes>"
      ]
     },
     "metadata": {
      "needs_background": "light"
     },
     "output_type": "display_data"
    }
   ],
   "source": [
    "plt.plot(CNNHistory.history['accuracy'], label='Training accuracy')\n",
    "plt.plot(CNNHistory.history['val_accuracy'], label='Validation accuracy')\n",
    "plt.title('CNN model / validation accuracies')\n",
    "plt.ylabel('Accuracy')\n",
    "plt.xlabel('Epoch')\n",
    "plt.legend(loc=\"upper left\")\n",
    "plt.show()\n",
    "\n",
    "plt.plot(CNNHistory.history['loss'], label='Training loss')\n",
    "plt.plot(CNNHistory.history['val_loss'], label='Validation loss')\n",
    "plt.title('CNN model / validation loss values')\n",
    "plt.ylabel('Loss value')\n",
    "plt.xlabel('Epoch')\n",
    "plt.legend(loc=\"upper left\")\n",
    "plt.show()"
   ]
  },
  {
   "cell_type": "code",
   "execution_count": 46,
   "metadata": {},
   "outputs": [],
   "source": [
    "def conv_model2(stride = 3, pool_size = 2):\n",
    "\n",
    "            \n",
    "    model = Sequential()\n",
    "    \n",
    "    model.add(Conv2D(16, (stride, stride), padding='same', input_shape=CNNinput_shape))\n",
    "    model.add(BatchNormalization())\n",
    "    model.add(LeakyReLU(alpha=leaky_relu_alpha))\n",
    "    model.add(Dropout(0.2))\n",
    "\n",
    "              \n",
    "    model.add(Conv2D(32, (stride, stride)))\n",
    "    model.add(BatchNormalization())\n",
    "    model.add(LeakyReLU(alpha=leaky_relu_alpha))\n",
    "    model.add(Dropout(0.2))\n",
    "    \n",
    "    model.add(MaxPooling2D(pool_size=(pool_size, pool_size)))\n",
    "    \n",
    "    model.add(Conv2D(32, (stride, stride), padding='same'))\n",
    "    model.add(BatchNormalization())\n",
    "    model.add(LeakyReLU(alpha=leaky_relu_alpha))\n",
    "    model.add(Dropout(0.2))\n",
    "              \n",
    "    model.add(MaxPooling2D(pool_size=(pool_size, pool_size)))\n",
    "    \n",
    "    model.add(Flatten())\n",
    "    \n",
    "    model.add(Dense(64, activation='relu', kernel_initializer='he_uniform'))\n",
    "    model.add(Dense(num_classes, activation='softmax'))\n",
    "    \n",
    "    adam = optimizers.Adam(lr = 0.001)\n",
    "    model.compile(optimizer = adam, loss = 'categorical_crossentropy', metrics = ['accuracy'])\n",
    "    \n",
    "    return model"
   ]
  },
  {
   "cell_type": "code",
   "execution_count": 47,
   "metadata": {},
   "outputs": [
    {
     "name": "stdout",
     "output_type": "stream",
     "text": [
      "Model: \"sequential_1\"\n",
      "_________________________________________________________________\n",
      "Layer (type)                 Output Shape              Param #   \n",
      "=================================================================\n",
      "conv2d_4 (Conv2D)            (None, 28, 28, 16)        160       \n",
      "_________________________________________________________________\n",
      "batch_normalization (BatchNo (None, 28, 28, 16)        64        \n",
      "_________________________________________________________________\n",
      "leaky_re_lu (LeakyReLU)      (None, 28, 28, 16)        0         \n",
      "_________________________________________________________________\n",
      "dropout_2 (Dropout)          (None, 28, 28, 16)        0         \n",
      "_________________________________________________________________\n",
      "conv2d_5 (Conv2D)            (None, 26, 26, 32)        4640      \n",
      "_________________________________________________________________\n",
      "batch_normalization_1 (Batch (None, 26, 26, 32)        128       \n",
      "_________________________________________________________________\n",
      "leaky_re_lu_1 (LeakyReLU)    (None, 26, 26, 32)        0         \n",
      "_________________________________________________________________\n",
      "dropout_3 (Dropout)          (None, 26, 26, 32)        0         \n",
      "_________________________________________________________________\n",
      "max_pooling2d_2 (MaxPooling2 (None, 13, 13, 32)        0         \n",
      "_________________________________________________________________\n",
      "conv2d_6 (Conv2D)            (None, 13, 13, 32)        9248      \n",
      "_________________________________________________________________\n",
      "batch_normalization_2 (Batch (None, 13, 13, 32)        128       \n",
      "_________________________________________________________________\n",
      "leaky_re_lu_2 (LeakyReLU)    (None, 13, 13, 32)        0         \n",
      "_________________________________________________________________\n",
      "dropout_4 (Dropout)          (None, 13, 13, 32)        0         \n",
      "_________________________________________________________________\n",
      "max_pooling2d_3 (MaxPooling2 (None, 6, 6, 32)          0         \n",
      "_________________________________________________________________\n",
      "flatten_1 (Flatten)          (None, 1152)              0         \n",
      "_________________________________________________________________\n",
      "dense_2 (Dense)              (None, 64)                73792     \n",
      "_________________________________________________________________\n",
      "dense_3 (Dense)              (None, 27)                1755      \n",
      "=================================================================\n",
      "Total params: 89,915\n",
      "Trainable params: 89,755\n",
      "Non-trainable params: 160\n",
      "_________________________________________________________________\n"
     ]
    }
   ],
   "source": [
    "cnn_model2 = conv_model2()\n",
    "cnn_model2.summary()"
   ]
  },
  {
   "cell_type": "code",
   "execution_count": 48,
   "metadata": {
    "scrolled": true
   },
   "outputs": [
    {
     "name": "stdout",
     "output_type": "stream",
     "text": [
      "Epoch 1/20\n",
      "3900/3900 - 73s - loss: 0.6289 - accuracy: 0.8042 - val_loss: 0.3330 - val_accuracy: 0.8963\n",
      "Epoch 2/20\n",
      "3900/3900 - 73s - loss: 0.3357 - accuracy: 0.8898 - val_loss: 0.3128 - val_accuracy: 0.8970\n",
      "Epoch 3/20\n",
      "3900/3900 - 72s - loss: 0.2860 - accuracy: 0.9052 - val_loss: 0.2664 - val_accuracy: 0.9135\n",
      "Epoch 4/20\n",
      "3900/3900 - 72s - loss: 0.2601 - accuracy: 0.9127 - val_loss: 0.2539 - val_accuracy: 0.9184\n",
      "Epoch 5/20\n",
      "3900/3900 - 72s - loss: 0.2433 - accuracy: 0.9182 - val_loss: 0.2532 - val_accuracy: 0.9185\n",
      "Epoch 6/20\n",
      "3900/3900 - 73s - loss: 0.2328 - accuracy: 0.9212 - val_loss: 0.2418 - val_accuracy: 0.9192\n",
      "Epoch 7/20\n",
      "3900/3900 - 73s - loss: 0.2242 - accuracy: 0.9244 - val_loss: 0.2178 - val_accuracy: 0.9265\n",
      "Epoch 8/20\n",
      "3900/3900 - 73s - loss: 0.2172 - accuracy: 0.9267 - val_loss: 0.2184 - val_accuracy: 0.9279\n",
      "Epoch 9/20\n",
      "3900/3900 - 72s - loss: 0.2142 - accuracy: 0.9275 - val_loss: 0.2122 - val_accuracy: 0.9285\n",
      "Epoch 10/20\n",
      "3900/3900 - 73s - loss: 0.2081 - accuracy: 0.9295 - val_loss: 0.2039 - val_accuracy: 0.9300\n",
      "Epoch 11/20\n",
      "3900/3900 - 72s - loss: 0.2050 - accuracy: 0.9291 - val_loss: 0.1945 - val_accuracy: 0.9345\n",
      "Epoch 12/20\n",
      "3900/3900 - 72s - loss: 0.1991 - accuracy: 0.9312 - val_loss: 0.1961 - val_accuracy: 0.9329\n",
      "Epoch 13/20\n",
      "3900/3900 - 73s - loss: 0.1967 - accuracy: 0.9324 - val_loss: 0.2071 - val_accuracy: 0.9312\n",
      "Epoch 14/20\n",
      "3900/3900 - 73s - loss: 0.1925 - accuracy: 0.9337 - val_loss: 0.2030 - val_accuracy: 0.9324\n",
      "Epoch 15/20\n",
      "3900/3900 - 73s - loss: 0.1900 - accuracy: 0.9345 - val_loss: 0.2201 - val_accuracy: 0.9259\n",
      "Epoch 16/20\n",
      "3900/3900 - 80s - loss: 0.1900 - accuracy: 0.9340 - val_loss: 0.2019 - val_accuracy: 0.9332\n",
      "Epoch 17/20\n",
      "3900/3900 - 108s - loss: 0.1852 - accuracy: 0.9358 - val_loss: 0.2043 - val_accuracy: 0.9317\n",
      "Epoch 18/20\n",
      "3900/3900 - 72s - loss: 0.1838 - accuracy: 0.9361 - val_loss: 0.2115 - val_accuracy: 0.9275\n",
      "Epoch 19/20\n",
      "3900/3900 - 72s - loss: 0.1825 - accuracy: 0.9368 - val_loss: 0.2050 - val_accuracy: 0.9325\n",
      "Epoch 20/20\n",
      "3900/3900 - 98s - loss: 0.1809 - accuracy: 0.9371 - val_loss: 0.2029 - val_accuracy: 0.9326\n",
      "Baseline Error: 6.74%\n",
      "Test loss for base CNN: 0.20294161140918732 / Test accuracy: 0.9325961470603943\n",
      "CPU times: user 5h 23min 21s, sys: 33min 5s, total: 5h 56min 26s\n",
      "Wall time: 25min 22s\n"
     ]
    }
   ],
   "source": [
    "%%time\n",
    "\n",
    "\n",
    "CNNHistory2 = cnn_model2.fit(img_gen.flow(X_trainCNN, y_train), validation_data=(X_testCNN, y_test), epochs=20, \n",
    "                        batch_size = 200, verbose=2)\n",
    "\n",
    "CNN_scores2 = cnn_model2.evaluate(X_testCNN, y_test, verbose=0)\n",
    "\n",
    "print(\"Baseline Error: %.2f%%\" % (100-CNN_scores2[1]*100))\n",
    "print(f'Test loss for base CNN: {CNN_scores2[0]} / Test accuracy: {CNN_scores2[1]}')"
   ]
  },
  {
   "cell_type": "code",
   "execution_count": 49,
   "metadata": {},
   "outputs": [
    {
     "data": {
      "image/png": "[encoded data removed]",
      "text/plain": [
       "<Figure size 432x288 with 1 Axes>"
      ]
     },
     "metadata": {
      "needs_background": "light"
     },
     "output_type": "display_data"
    },
    {
     "data": {
      "image/png": "[encoded data removed]",
      "text/plain": [
       "<Figure size 432x288 with 1 Axes>"
      ]
     },
     "metadata": {
      "needs_background": "light"
     },
     "output_type": "display_data"
    }
   ],
   "source": [
    "plt.plot(CNNHistory2.history['accuracy'], label='Training accuracy')\n",
    "plt.plot(CNNHistory2.history['val_accuracy'], label='Validation accuracy')\n",
    "plt.title('CNN2 model / validation accuracies')\n",
    "plt.ylabel('Accuracy')\n",
    "plt.xlabel('Epoch')\n",
    "plt.legend(loc=\"upper left\")\n",
    "plt.show()\n",
    "\n",
    "plt.plot(CNNHistory2.history['loss'], label='Training loss')\n",
    "plt.plot(CNNHistory2.history['val_loss'], label='Validation loss')\n",
    "plt.title('CNN2 model / validation loss values')\n",
    "plt.ylabel('Loss value')\n",
    "plt.xlabel('Epoch')\n",
    "plt.legend(loc=\"upper left\")\n",
    "plt.show()"
   ]
  },
  {
   "cell_type": "code",
   "execution_count": 62,
   "metadata": {},
   "outputs": [],
   "source": [
    "def conv_model3():\n",
    "\n",
    "    \n",
    "    \n",
    "    model = Sequential()\n",
    "    model.add(Conv2D(32, kernel_size = 3, activation='relu', input_shape = CNNinput_shape))\n",
    "    model.add(BatchNormalization())\n",
    "    model.add(Conv2D(32, kernel_size = 3, activation='relu'))\n",
    "    model.add(BatchNormalization())\n",
    "    model.add(Conv2D(32, kernel_size = 5, strides=2, padding='same', activation='relu'))\n",
    "    model.add(BatchNormalization())\n",
    "    model.add(Dropout(0.4))\n",
    "\n",
    "    model.add(Conv2D(64, kernel_size = 3, activation='relu'))\n",
    "    model.add(BatchNormalization())\n",
    "    model.add(Conv2D(64, kernel_size = 3, activation='relu'))\n",
    "    model.add(BatchNormalization())\n",
    "    model.add(Conv2D(64, kernel_size = 5, strides=2, padding='same', activation='relu'))\n",
    "    model.add(BatchNormalization())\n",
    "    model.add(Dropout(0.4))\n",
    "\n",
    "    model.add(Conv2D(128, kernel_size = 4, activation='relu'))\n",
    "    model.add(BatchNormalization())\n",
    "    model.add(Flatten())\n",
    "    model.add(Dropout(0.4))\n",
    "               \n",
    "    model.add(Dense(num_classes, activation='softmax'))\n",
    "    \n",
    "    adam = optimizers.Adam(lr = 0.001)\n",
    "    model.compile(optimizer = adam, loss = 'categorical_crossentropy', metrics = ['accuracy'])\n",
    "    \n",
    "    return model"
   ]
  },
  {
   "cell_type": "code",
   "execution_count": 63,
   "metadata": {
    "scrolled": false
   },
   "outputs": [
    {
     "name": "stdout",
     "output_type": "stream",
     "text": [
      "Model: \"sequential_2\"\n",
      "_________________________________________________________________\n",
      "Layer (type)                 Output Shape              Param #   \n",
      "=================================================================\n",
      "conv2d_7 (Conv2D)            (None, 26, 26, 32)        320       \n",
      "_________________________________________________________________\n",
      "batch_normalization_3 (Batch (None, 26, 26, 32)        128       \n",
      "_________________________________________________________________\n",
      "conv2d_8 (Conv2D)            (None, 24, 24, 32)        9248      \n",
      "_________________________________________________________________\n",
      "batch_normalization_4 (Batch (None, 24, 24, 32)        128       \n",
      "_________________________________________________________________\n",
      "conv2d_9 (Conv2D)            (None, 12, 12, 32)        25632     \n",
      "_________________________________________________________________\n",
      "batch_normalization_5 (Batch (None, 12, 12, 32)        128       \n",
      "_________________________________________________________________\n",
      "dropout_5 (Dropout)          (None, 12, 12, 32)        0         \n",
      "_________________________________________________________________\n",
      "conv2d_10 (Conv2D)           (None, 10, 10, 64)        18496     \n",
      "_________________________________________________________________\n",
      "batch_normalization_6 (Batch (None, 10, 10, 64)        256       \n",
      "_________________________________________________________________\n",
      "conv2d_11 (Conv2D)           (None, 8, 8, 64)          36928     \n",
      "_________________________________________________________________\n",
      "batch_normalization_7 (Batch (None, 8, 8, 64)          256       \n",
      "_________________________________________________________________\n",
      "conv2d_12 (Conv2D)           (None, 4, 4, 64)          102464    \n",
      "_________________________________________________________________\n",
      "batch_normalization_8 (Batch (None, 4, 4, 64)          256       \n",
      "_________________________________________________________________\n",
      "dropout_6 (Dropout)          (None, 4, 4, 64)          0         \n",
      "_________________________________________________________________\n",
      "conv2d_13 (Conv2D)           (None, 1, 1, 128)         131200    \n",
      "_________________________________________________________________\n",
      "batch_normalization_9 (Batch (None, 1, 1, 128)         512       \n",
      "_________________________________________________________________\n",
      "flatten_2 (Flatten)          (None, 128)               0         \n",
      "_________________________________________________________________\n",
      "dropout_7 (Dropout)          (None, 128)               0         \n",
      "_________________________________________________________________\n",
      "dense_4 (Dense)              (None, 27)                3483      \n",
      "=================================================================\n",
      "Total params: 329,435\n",
      "Trainable params: 328,603\n",
      "Non-trainable params: 832\n",
      "_________________________________________________________________\n"
     ]
    }
   ],
   "source": [
    "cnn_model3 = conv_model3()\n",
    "cnn_model3.summary()"
   ]
  },
  {
   "cell_type": "code",
   "execution_count": 64,
   "metadata": {
    "scrolled": true
   },
   "outputs": [
    {
     "name": "stdout",
     "output_type": "stream",
     "text": [
      "Epoch 1/20\n",
      "3900/3900 - 107s - loss: 0.7163 - accuracy: 0.7810 - val_loss: 0.2449 - val_accuracy: 0.9180\n",
      "Epoch 2/20\n",
      "3900/3900 - 111s - loss: 0.3794 - accuracy: 0.8776 - val_loss: 0.2043 - val_accuracy: 0.9300\n",
      "Epoch 3/20\n",
      "3900/3900 - 112s - loss: 0.3217 - accuracy: 0.8951 - val_loss: 0.1980 - val_accuracy: 0.9333\n",
      "Epoch 4/20\n",
      "3900/3900 - 108s - loss: 0.2937 - accuracy: 0.9044 - val_loss: 0.1877 - val_accuracy: 0.9381\n",
      "Epoch 5/20\n",
      "3900/3900 - 110s - loss: 0.2693 - accuracy: 0.9106 - val_loss: 0.1775 - val_accuracy: 0.9379\n",
      "Epoch 6/20\n",
      "3900/3900 - 111s - loss: 0.2565 - accuracy: 0.9156 - val_loss: 0.2017 - val_accuracy: 0.9320\n",
      "Epoch 7/20\n",
      "3900/3900 - 110s - loss: 0.2490 - accuracy: 0.9176 - val_loss: 0.1602 - val_accuracy: 0.9456\n",
      "Epoch 8/20\n",
      "3900/3900 - 112s - loss: 0.2393 - accuracy: 0.9205 - val_loss: 0.1636 - val_accuracy: 0.9439\n",
      "Epoch 9/20\n",
      "3900/3900 - 111s - loss: 0.2339 - accuracy: 0.9222 - val_loss: 0.1665 - val_accuracy: 0.9444\n",
      "Epoch 10/20\n",
      "3900/3900 - 110s - loss: 0.2266 - accuracy: 0.9245 - val_loss: 0.1648 - val_accuracy: 0.9434\n",
      "Epoch 11/20\n",
      "3900/3900 - 109s - loss: 0.2232 - accuracy: 0.9250 - val_loss: 0.1646 - val_accuracy: 0.9447\n",
      "Epoch 12/20\n",
      "3900/3900 - 110s - loss: 0.2172 - accuracy: 0.9273 - val_loss: 0.1605 - val_accuracy: 0.9452\n",
      "Epoch 13/20\n",
      "3900/3900 - 112s - loss: 0.2131 - accuracy: 0.9281 - val_loss: 0.1593 - val_accuracy: 0.9450\n",
      "Epoch 14/20\n",
      "3900/3900 - 112s - loss: 0.2094 - accuracy: 0.9290 - val_loss: 0.1593 - val_accuracy: 0.9429\n",
      "Epoch 15/20\n",
      "3900/3900 - 112s - loss: 0.2090 - accuracy: 0.9298 - val_loss: 0.1582 - val_accuracy: 0.9457\n",
      "Epoch 16/20\n",
      "3900/3900 - 112s - loss: 0.2059 - accuracy: 0.9302 - val_loss: 0.1535 - val_accuracy: 0.9468\n",
      "Epoch 17/20\n",
      "3900/3900 - 112s - loss: 0.2013 - accuracy: 0.9323 - val_loss: 0.1598 - val_accuracy: 0.9463\n",
      "Epoch 18/20\n",
      "3900/3900 - 111s - loss: 0.1976 - accuracy: 0.9327 - val_loss: 0.1574 - val_accuracy: 0.9467\n",
      "Epoch 19/20\n",
      "3900/3900 - 110s - loss: 0.1953 - accuracy: 0.9341 - val_loss: 0.1533 - val_accuracy: 0.9487\n",
      "Epoch 20/20\n",
      "3900/3900 - 107s - loss: 0.1967 - accuracy: 0.9343 - val_loss: 0.1553 - val_accuracy: 0.9464\n",
      "Baseline Error: 5.36%\n",
      "Test loss for base CNN: 0.1552852988243103 / Test accuracy: 0.9464423060417175\n",
      "CPU times: user 8h 54min 23s, sys: 52min 12s, total: 9h 46min 35s\n",
      "Wall time: 36min 53s\n"
     ]
    }
   ],
   "source": [
    "%%time\n",
    "\n",
    "CNNHistory3 = cnn_model3.fit(img_gen.flow(X_trainCNN, y_train), validation_data=(X_testCNN, y_test), epochs=20, \n",
    "                        batch_size = 500, verbose=2)\n",
    "\n",
    "CNN_scores3 = cnn_model3.evaluate(X_testCNN, y_test, verbose=0)\n",
    "\n",
    "print(\"Baseline Error: %.2f%%\" % (100-CNN_scores3[1]*100))\n",
    "print(f'Test loss for base CNN: {CNN_scores3[0]} / Test accuracy: {CNN_scores3[1]}')"
   ]
  },
  {
   "cell_type": "code",
   "execution_count": 65,
   "metadata": {},
   "outputs": [
    {
     "data": {
      "image/png": "[encoded data removed]",
      "text/plain": [
       "<Figure size 432x288 with 1 Axes>"
      ]
     },
     "metadata": {
      "needs_background": "light"
     },
     "output_type": "display_data"
    },
    {
     "data": {
      "image/png": "[encoded data removed]",
      "text/plain": [
       "<Figure size 432x288 with 1 Axes>"
      ]
     },
     "metadata": {
      "needs_background": "light"
     },
     "output_type": "display_data"
    }
   ],
   "source": [
    "plt.plot(CNNHistory3.history['accuracy'], label='Training accuracy')\n",
    "plt.plot(CNNHistory3.history['val_accuracy'], label='Validation accuracy')\n",
    "plt.title('CNN2 model / validation accuracies')\n",
    "plt.ylabel('Accuracy')\n",
    "plt.xlabel('Epoch')\n",
    "plt.legend(loc=\"upper left\")\n",
    "plt.show()\n",
    "\n",
    "plt.plot(CNNHistory3.history['loss'], label='Training loss')\n",
    "plt.plot(CNNHistory3.history['val_loss'], label='Validation loss')\n",
    "plt.title('CNN2 model / validation loss values')\n",
    "plt.ylabel('Loss value')\n",
    "plt.xlabel('Epoch')\n",
    "plt.legend(loc=\"upper left\")\n",
    "plt.show()"
   ]
  },
  {
   "cell_type": "code",
   "execution_count": 77,
   "metadata": {},
   "outputs": [],
   "source": [
    "def evaluate_model(dataX, dataY, n_folds=5):\n",
    "    scores, histories = list(), list()\n",
    "    # prepare cross validation\n",
    "    kfold = KFold(n_folds, shuffle=True, random_state=1)\n",
    "    # enumerate splits\n",
    "    for train_ix, test_ix in kfold.split(dataX):\n",
    "        # define model\n",
    "        model = conv_model3()\n",
    "        # select rows for train and test\n",
    "        trainX, trainY, testX, testY = dataX[train_ix], dataY[train_ix], dataX[test_ix], dataY[test_ix]\n",
    "        # fit model\n",
    "        \n",
    "        if K.image_data_format() == 'channels_first':\n",
    "            trainX = trainX.reshape(trainX.shape[0], 1, img_width, img_height)\n",
    "            testX = testX.reshape(testX.shape[0], 1, img_width, img_height)\n",
    "            \n",
    "        else:\n",
    "            trainX = trainX.reshape(trainX.shape[0], img_width, img_height, 1)\n",
    "            testX = testX.reshape(testX.shape[0], img_width, img_height, 1)\n",
    "            \n",
    "    \n",
    "        history = model.fit(img_gen.flow(trainX, trainY), validation_data=(testX, testY), epochs=10, \n",
    "                        batch_size = 500, verbose=2)\n",
    "        # evaluate model\n",
    "        _, acc = model.evaluate(testX, testY, verbose=0)\n",
    "        print('> %.3f' % (acc * 100.0))\n",
    "        # stores scores\n",
    "        scores.append(acc)\n",
    "        histories.append(history)\n",
    "    return scores, histories\n",
    "\n",
    "def summarize_diagnostics(histories):\n",
    "    for i in range(len(histories)):\n",
    "        # plot loss\n",
    "        pyplot.subplot(2, 1, 1)\n",
    "        pyplot.title('Cross Entropy Loss')\n",
    "        pyplot.plot(histories[i].history['loss'], color='blue', label='train')\n",
    "        pyplot.plot(histories[i].history['val_loss'], color='orange', label='test')\n",
    "        # plot accuracy\n",
    "        pyplot.subplot(2, 1, 2)\n",
    "        pyplot.title('Classification Accuracy')\n",
    "        pyplot.plot(histories[i].history['accuracy'], color='blue', label='train')\n",
    "        pyplot.plot(histories[i].history['val_accuracy'], color='orange', label='test')\n",
    "    pyplot.show()\n",
    "    \n",
    "def summarize_performance(scores):\n",
    "    # print summary\n",
    "    print('Accuracy: mean=%.3f std=%.3f, n=%d' % (mean(scores)*100, std(scores)*100, len(scores)))\n",
    "    # box and whisker plots of results\n",
    "    pyplot.boxplot(scores)\n",
    "    pyplot.show()"
   ]
  },
  {
   "cell_type": "code",
   "execution_count": 78,
   "metadata": {},
   "outputs": [
    {
     "name": "stdout",
     "output_type": "stream",
     "text": [
      "Epoch 1/10\n",
      "3120/3120 - 86s - loss: 0.7690 - accuracy: 0.7670 - val_loss: 0.3418 - val_accuracy: 0.8889\n",
      "Epoch 2/10\n",
      "3120/3120 - 89s - loss: 0.4014 - accuracy: 0.8692 - val_loss: 0.2212 - val_accuracy: 0.9272\n",
      "Epoch 3/10\n",
      "3120/3120 - 88s - loss: 0.3365 - accuracy: 0.8903 - val_loss: 0.1933 - val_accuracy: 0.9351\n",
      "Epoch 4/10\n",
      "3120/3120 - 86s - loss: 0.3045 - accuracy: 0.9010 - val_loss: 0.1884 - val_accuracy: 0.9382\n",
      "Epoch 5/10\n",
      "3120/3120 - 85s - loss: 0.2848 - accuracy: 0.9062 - val_loss: 0.1757 - val_accuracy: 0.9404\n",
      "Epoch 6/10\n",
      "3120/3120 - 87s - loss: 0.2728 - accuracy: 0.9102 - val_loss: 0.1756 - val_accuracy: 0.9405\n",
      "Epoch 7/10\n",
      "3120/3120 - 88s - loss: 0.2574 - accuracy: 0.9146 - val_loss: 0.1689 - val_accuracy: 0.9425\n",
      "Epoch 8/10\n",
      "3120/3120 - 87s - loss: 0.2484 - accuracy: 0.9183 - val_loss: 0.1700 - val_accuracy: 0.9413\n",
      "Epoch 9/10\n",
      "3120/3120 - 85s - loss: 0.2397 - accuracy: 0.9204 - val_loss: 0.1693 - val_accuracy: 0.9411\n",
      "Epoch 10/10\n",
      "3120/3120 - 98s - loss: 0.2318 - accuracy: 0.9229 - val_loss: 0.1630 - val_accuracy: 0.9446\n",
      "> 94.463\n",
      "Epoch 1/10\n",
      "3120/3120 - 90s - loss: 0.7643 - accuracy: 0.7671 - val_loss: 0.2661 - val_accuracy: 0.9084\n",
      "Epoch 2/10\n",
      "3120/3120 - 127s - loss: 0.4022 - accuracy: 0.8713 - val_loss: 0.2129 - val_accuracy: 0.9266\n",
      "Epoch 3/10\n",
      "3120/3120 - 117s - loss: 0.3378 - accuracy: 0.8901 - val_loss: 0.2038 - val_accuracy: 0.9290\n",
      "Epoch 4/10\n",
      "3120/3120 - 136s - loss: 0.3066 - accuracy: 0.8989 - val_loss: 0.1926 - val_accuracy: 0.9327\n",
      "Epoch 5/10\n",
      "3120/3120 - 165s - loss: 0.2847 - accuracy: 0.9062 - val_loss: 0.1816 - val_accuracy: 0.9375\n",
      "Epoch 6/10\n",
      "3120/3120 - 132s - loss: 0.2664 - accuracy: 0.9124 - val_loss: 0.1707 - val_accuracy: 0.9423\n",
      "Epoch 7/10\n",
      "3120/3120 - 164s - loss: 0.2544 - accuracy: 0.9162 - val_loss: 0.1665 - val_accuracy: 0.9425\n",
      "Epoch 8/10\n",
      "3120/3120 - 134s - loss: 0.2483 - accuracy: 0.9179 - val_loss: 0.1631 - val_accuracy: 0.9444\n",
      "Epoch 9/10\n",
      "3120/3120 - 86s - loss: 0.2430 - accuracy: 0.9195 - val_loss: 0.1677 - val_accuracy: 0.9416\n",
      "Epoch 10/10\n",
      "3120/3120 - 85s - loss: 0.2368 - accuracy: 0.9212 - val_loss: 0.1571 - val_accuracy: 0.9460\n",
      "> 94.599\n",
      "Epoch 1/10\n",
      "3120/3120 - 87s - loss: 0.7627 - accuracy: 0.7693 - val_loss: 0.2683 - val_accuracy: 0.9102\n",
      "Epoch 2/10\n",
      "3120/3120 - 90s - loss: 0.3995 - accuracy: 0.8709 - val_loss: 0.2219 - val_accuracy: 0.9221\n",
      "Epoch 3/10\n",
      "3120/3120 - 87s - loss: 0.3382 - accuracy: 0.8901 - val_loss: 0.2063 - val_accuracy: 0.9281\n",
      "Epoch 4/10\n",
      "3120/3120 - 88s - loss: 0.3074 - accuracy: 0.8994 - val_loss: 0.1830 - val_accuracy: 0.9381\n",
      "Epoch 5/10\n",
      "3120/3120 - 86s - loss: 0.2834 - accuracy: 0.9070 - val_loss: 0.1827 - val_accuracy: 0.9363\n",
      "Epoch 6/10\n",
      "3120/3120 - 87s - loss: 0.2693 - accuracy: 0.9116 - val_loss: 0.1745 - val_accuracy: 0.9396\n",
      "Epoch 7/10\n",
      "3120/3120 - 87s - loss: 0.2569 - accuracy: 0.9154 - val_loss: 0.1574 - val_accuracy: 0.9457\n",
      "Epoch 8/10\n",
      "3120/3120 - 86s - loss: 0.2501 - accuracy: 0.9175 - val_loss: 0.1663 - val_accuracy: 0.9439\n",
      "Epoch 9/10\n",
      "3120/3120 - 87s - loss: 0.2399 - accuracy: 0.9200 - val_loss: 0.1534 - val_accuracy: 0.9471\n",
      "Epoch 10/10\n",
      "3120/3120 - 87s - loss: 0.2324 - accuracy: 0.9224 - val_loss: 0.1601 - val_accuracy: 0.9445\n",
      "> 94.451\n",
      "Epoch 1/10\n",
      "3120/3120 - 87s - loss: 0.7835 - accuracy: 0.7636 - val_loss: 0.2635 - val_accuracy: 0.9132\n",
      "Epoch 2/10\n",
      "3120/3120 - 88s - loss: 0.4035 - accuracy: 0.8707 - val_loss: 0.2194 - val_accuracy: 0.9264\n",
      "Epoch 3/10\n",
      "3120/3120 - 87s - loss: 0.3371 - accuracy: 0.8907 - val_loss: 0.2071 - val_accuracy: 0.9252\n",
      "Epoch 4/10\n",
      "3120/3120 - 103s - loss: 0.3101 - accuracy: 0.8990 - val_loss: 0.1846 - val_accuracy: 0.9355\n",
      "Epoch 5/10\n",
      "3120/3120 - 100s - loss: 0.2877 - accuracy: 0.9071 - val_loss: 0.1677 - val_accuracy: 0.9413\n",
      "Epoch 6/10\n",
      "3120/3120 - 125s - loss: 0.2727 - accuracy: 0.9102 - val_loss: 0.1703 - val_accuracy: 0.9391\n",
      "Epoch 7/10\n",
      "3120/3120 - 121s - loss: 0.2577 - accuracy: 0.9157 - val_loss: 0.1586 - val_accuracy: 0.9430\n",
      "Epoch 8/10\n",
      "3120/3120 - 147s - loss: 0.2489 - accuracy: 0.9162 - val_loss: 0.1611 - val_accuracy: 0.9425\n",
      "Epoch 9/10\n",
      "3120/3120 - 154s - loss: 0.2454 - accuracy: 0.9186 - val_loss: 0.1575 - val_accuracy: 0.9443\n",
      "Epoch 10/10\n",
      "3120/3120 - 136s - loss: 0.2366 - accuracy: 0.9214 - val_loss: 0.1585 - val_accuracy: 0.9442\n",
      "> 94.423\n",
      "Epoch 1/10\n",
      "3120/3120 - 158s - loss: 0.7830 - accuracy: 0.7632 - val_loss: 0.2627 - val_accuracy: 0.9086\n",
      "Epoch 2/10\n",
      "3120/3120 - 112s - loss: 0.4044 - accuracy: 0.8693 - val_loss: 0.2376 - val_accuracy: 0.9176\n",
      "Epoch 3/10\n",
      "3120/3120 - 86s - loss: 0.3431 - accuracy: 0.8884 - val_loss: 0.1857 - val_accuracy: 0.9355\n",
      "Epoch 4/10\n",
      "3120/3120 - 85s - loss: 0.3126 - accuracy: 0.8993 - val_loss: 0.1933 - val_accuracy: 0.9329\n",
      "Epoch 5/10\n",
      "3120/3120 - 84s - loss: 0.2865 - accuracy: 0.9064 - val_loss: 0.1739 - val_accuracy: 0.9403\n",
      "Epoch 6/10\n",
      "3120/3120 - 85s - loss: 0.2700 - accuracy: 0.9109 - val_loss: 0.1690 - val_accuracy: 0.9414\n",
      "Epoch 7/10\n",
      "3120/3120 - 85s - loss: 0.2605 - accuracy: 0.9140 - val_loss: 0.1684 - val_accuracy: 0.9420\n",
      "Epoch 8/10\n",
      "3120/3120 - 84s - loss: 0.2523 - accuracy: 0.9174 - val_loss: 0.1663 - val_accuracy: 0.9430\n",
      "Epoch 9/10\n",
      "3120/3120 - 86s - loss: 0.2431 - accuracy: 0.9195 - val_loss: 0.1640 - val_accuracy: 0.9440\n",
      "Epoch 10/10\n",
      "3120/3120 - 87s - loss: 0.2373 - accuracy: 0.9209 - val_loss: 0.1782 - val_accuracy: 0.9385\n",
      "> 93.854\n"
     ]
    },
    {
     "name": "stderr",
     "output_type": "stream",
     "text": [
      "/usr/local/lib/python3.6/dist-packages/ipykernel_launcher.py:35: MatplotlibDeprecationWarning: Adding an axes using the same arguments as a previous axes currently reuses the earlier instance.  In a future version, a new instance will always be created and returned.  Meanwhile, this warning can be suppressed, and the future behavior ensured, by passing a unique label to each axes instance.\n",
      "/usr/local/lib/python3.6/dist-packages/ipykernel_launcher.py:40: MatplotlibDeprecationWarning: Adding an axes using the same arguments as a previous axes currently reuses the earlier instance.  In a future version, a new instance will always be created and returned.  Meanwhile, this warning can be suppressed, and the future behavior ensured, by passing a unique label to each axes instance.\n",
      "/usr/local/lib/python3.6/dist-packages/ipykernel_launcher.py:35: MatplotlibDeprecationWarning: Adding an axes using the same arguments as a previous axes currently reuses the earlier instance.  In a future version, a new instance will always be created and returned.  Meanwhile, this warning can be suppressed, and the future behavior ensured, by passing a unique label to each axes instance.\n",
      "/usr/local/lib/python3.6/dist-packages/ipykernel_launcher.py:40: MatplotlibDeprecationWarning: Adding an axes using the same arguments as a previous axes currently reuses the earlier instance.  In a future version, a new instance will always be created and returned.  Meanwhile, this warning can be suppressed, and the future behavior ensured, by passing a unique label to each axes instance.\n",
      "/usr/local/lib/python3.6/dist-packages/ipykernel_launcher.py:35: MatplotlibDeprecationWarning: Adding an axes using the same arguments as a previous axes currently reuses the earlier instance.  In a future version, a new instance will always be created and returned.  Meanwhile, this warning can be suppressed, and the future behavior ensured, by passing a unique label to each axes instance.\n",
      "/usr/local/lib/python3.6/dist-packages/ipykernel_launcher.py:40: MatplotlibDeprecationWarning: Adding an axes using the same arguments as a previous axes currently reuses the earlier instance.  In a future version, a new instance will always be created and returned.  Meanwhile, this warning can be suppressed, and the future behavior ensured, by passing a unique label to each axes instance.\n",
      "/usr/local/lib/python3.6/dist-packages/ipykernel_launcher.py:35: MatplotlibDeprecationWarning: Adding an axes using the same arguments as a previous axes currently reuses the earlier instance.  In a future version, a new instance will always be created and returned.  Meanwhile, this warning can be suppressed, and the future behavior ensured, by passing a unique label to each axes instance.\n",
      "/usr/local/lib/python3.6/dist-packages/ipykernel_launcher.py:40: MatplotlibDeprecationWarning: Adding an axes using the same arguments as a previous axes currently reuses the earlier instance.  In a future version, a new instance will always be created and returned.  Meanwhile, this warning can be suppressed, and the future behavior ensured, by passing a unique label to each axes instance.\n"
     ]
    },
    {
     "data": {
      "image/png": "[encoded data removed]",
      "text/plain": [
       "<Figure size 432x288 with 2 Axes>"
      ]
     },
     "metadata": {
      "needs_background": "light"
     },
     "output_type": "display_data"
    },
    {
     "name": "stdout",
     "output_type": "stream",
     "text": [
      "Accuracy: mean=94.358 std=0.259, n=5\n"
     ]
    },
    {
     "data": {
      "image/png": "[encoded data removed]",
      "text/plain": [
       "<Figure size 432x288 with 1 Axes>"
      ]
     },
     "metadata": {
      "needs_background": "light"
     },
     "output_type": "display_data"
    },
    {
     "name": "stdout",
     "output_type": "stream",
     "text": [
      "CPU times: user 15h 20min 57s, sys: 1h 45min 32s, total: 17h 6min 29s\n",
      "Wall time: 1h 25min 27s\n"
     ]
    }
   ],
   "source": [
    "%%time\n",
    "\n",
    "scores, histories = evaluate_model(X_trainCNN, y_train)\n",
    "# learning curves\n",
    "summarize_diagnostics(histories)\n",
    "# summarize estimated performance\n",
    "summarize_performance(scores)"
   ]
  }
 ],
 "metadata": {
  "kernelspec": {
   "display_name": "Python 3",
   "language": "python",
   "name": "python3"
  },
  "language_info": {
   "codemirror_mode": {
    "name": "ipython",
    "version": 3
   },
   "file_extension": ".py",
   "mimetype": "text/x-python",
   "name": "python",
   "nbconvert_exporter": "python",
   "pygments_lexer": "ipython3",
   "version": "3.6.9"
  }
 },
 "nbformat": 4,
 "nbformat_minor": 4
}
