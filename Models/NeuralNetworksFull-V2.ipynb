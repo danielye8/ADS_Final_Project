{
 "cells": [
  {
   "cell_type": "markdown",
   "metadata": {},
   "source": [
    "## Libraries"
   ]
  },
  {
   "cell_type": "code",
   "execution_count": 1,
   "metadata": {},
   "outputs": [
    {
     "name": "stdout",
     "output_type": "stream",
     "text": [
      "CPU times: user 2.48 s, sys: 3.17 s, total: 5.65 s\n",
      "Wall time: 2.42 s\n"
     ]
    },
    {
     "name": "stderr",
     "output_type": "stream",
     "text": [
      "Using TensorFlow backend.\n"
     ]
    }
   ],
   "source": [
    "%%time\n",
    "import matplotlib.pyplot as plt\n",
    "from sklearn.model_selection import train_test_split\n",
    "from tensorflow.keras.datasets import mnist\n",
    "from tensorflow.keras.models import Sequential\n",
    "#import tensorflow.keras.utils.to_categorical\n",
    "import numpy as np\n",
    "from sklearn.ensemble import VotingClassifier\n",
    "from sklearn.metrics import accuracy_score\n",
    "from tensorflow.keras.models import Sequential\n",
    "from tensorflow.keras.layers import Activation, Dense\n",
    "from tensorflow.keras import optimizers\n",
    "from tensorflow.keras.layers import BatchNormalization, Dropout\n",
    "from tensorflow.keras.wrappers.scikit_learn import KerasClassifier\n",
    "%matplotlib inline\n",
    "import keras\n",
    "from tensorflow.keras.layers import Flatten\n",
    "from tensorflow.keras.layers import Conv2D, MaxPooling2D\n",
    "from tensorflow.keras import backend as K\n",
    "from tensorflow.keras.layers import LeakyReLU\n",
    "from emnist import extract_training_samples\n",
    "from emnist import extract_test_samples\n",
    "from tensorflow.keras import utils\n",
    "from matplotlib import pyplot\n",
    "from tensorflow.keras.callbacks import EarlyStopping, ModelCheckpoint\n",
    "import pickle\n",
    "from sklearn.model_selection import train_test_split\n",
    "from sklearn.preprocessing import LabelEncoder\n",
    "from PIL import Image\n",
    "from tensorflow.keras.preprocessing.image import ImageDataGenerator\n",
    "from tensorflow.keras.callbacks import LearningRateScheduler, ModelCheckpoint\n",
    "from tensorflow.keras.preprocessing.image import ImageDataGenerator, array_to_img, img_to_array, load_img\n",
    "from tensorflow.keras.utils import plot_model, to_categorical\n",
    "from tensorflow.keras.callbacks import EarlyStopping, ModelCheckpoint\n",
    "import pandas as pd\n",
    "import time\n",
    "import os\n",
    "from numpy import mean\n",
    "from numpy import std\n",
    "from matplotlib import pyplot\n",
    "from sklearn.model_selection import KFold\n",
    "from tensorflow.keras.optimizers import SGD\n",
    "from sklearn.model_selection import GridSearchCV\n",
    "from tensorflow.keras.wrappers.scikit_learn import KerasClassifier"
   ]
  },
  {
   "cell_type": "markdown",
   "metadata": {},
   "source": [
    "## Data Preparations, global parameters and optimisation tunings"
   ]
  },
  {
   "cell_type": "code",
   "execution_count": 2,
   "metadata": {},
   "outputs": [],
   "source": [
    "#Global para's\n",
    "\n",
    "img_width, img_height = 28, 28\n",
    "leaky_relu_alpha = 0.1"
   ]
  },
  {
   "cell_type": "code",
   "execution_count": 3,
   "metadata": {},
   "outputs": [],
   "source": [
    "X_train, y_train = extract_training_samples('balanced')\n",
    "X_test, y_test = extract_test_samples('balanced')\n",
    "\n",
    "num_pixels = X_train.shape[1] * X_train.shape[2]\n",
    "X_train = X_train.reshape((X_train.shape[0], num_pixels)).astype('float32')\n",
    "X_test = X_test.reshape((X_test.shape[0], num_pixels)).astype('float32')\n",
    "\n",
    "X_train = X_train / 255\n",
    "X_test = X_test / 255\n",
    "\n",
    "y_train = utils.to_categorical(y_train)\n",
    "y_test = utils.to_categorical(y_test)\n",
    "num_classes = y_test.shape[1]\n",
    "\n",
    "\n",
    "'''\n",
    "CNN's require a different formal of input data as compared to MLP;\n",
    "this function reshapes the image data accordingly.\n",
    "\n",
    "Reshapring for 3D cnn format since we are using black and white images, gotta made it 3dim.\n",
    "\n",
    "'''\n",
    "\n",
    "img_width, img_height = 28, 28\n",
    "\n",
    "X_trainCNN, y_trainCNN = extract_training_samples('balanced')\n",
    "X_testCNN, y_testCNN = extract_test_samples('balanced')\n",
    "\n",
    "if K.image_data_format() == 'channels_first':\n",
    "    X_trainCNN = X_trainCNN.reshape(X_trainCNN.shape[0], 1, img_width, img_height)\n",
    "    X_testCNN = X_testCNN.reshape(X_testCNN.shape[0], 1, img_width, img_height)\n",
    "    CNNinput_shape = (1, img_width, img_height)\n",
    "else:\n",
    "    X_trainCNN = X_trainCNN.reshape(X_trainCNN.shape[0], img_width, img_height, 1)\n",
    "    X_testCNN = X_testCNN.reshape(X_testCNN.shape[0], img_width, img_height, 1)\n",
    "    CNNinput_shape = (img_width, img_height, 1)\n",
    "    \n",
    "X_trainCNN = X_trainCNN / 255\n",
    "X_testCNN = X_testCNN / 255\n",
    "    \n",
    "y_trainCNN = utils.to_categorical(y_trainCNN)\n",
    "y_testCNN = utils.to_categorical(y_testCNN)"
   ]
  },
  {
   "cell_type": "markdown",
   "metadata": {},
   "source": [
    "### Image Augmentation"
   ]
  },
  {
   "cell_type": "code",
   "execution_count": 4,
   "metadata": {},
   "outputs": [],
   "source": [
    "'''\n",
    "Image rotation of 40 degree's (minics difference angles of writing)\n",
    "Shear, Vertical, Horizontal shifts by 0.08 (minic displacements and cursive fonts)\n",
    "Zoom's in by 0.08 (minics alphabets size difference)\n",
    "\n",
    "'''\n",
    "\n",
    "img_gen = ImageDataGenerator(\n",
    "    featurewise_center=False,  \n",
    "    samplewise_center=False,  \n",
    "    featurewise_std_normalization=False,  \n",
    "    samplewise_std_normalization=False,  \n",
    "    zca_whitening=False,  \n",
    "    rotation_range=40,\n",
    "    #shear_range = 30,\n",
    "    width_shift_range=0.1,\n",
    "    height_shift_range=0.1,\n",
    "    #zoom_range = [-0.5,0.5],\n",
    "    horizontal_flip=False)"
   ]
  },
  {
   "cell_type": "code",
   "execution_count": 7,
   "metadata": {},
   "outputs": [],
   "source": [
    "'''\n",
    "An example of how the image augmentation function can affect our data.\n",
    "'''\n",
    "\n",
    "def gallery(array, ncols=3):\n",
    "    nindex, height, width = array.shape\n",
    "    nrows = nindex//ncols\n",
    "    assert nindex == nrows*ncols\n",
    "    # want result.shape = (height*nrows, width*ncols)\n",
    "    result = (array.reshape(nrows, ncols, height, width)\n",
    "              .swapaxes(1,2)\n",
    "              .reshape(height*nrows, width*ncols))\n",
    "    return result\n",
    "\n",
    "\n",
    "distorted = np.empty(shape = (0,28,28), dtype = \"uint8\")\n",
    "i = 0\n",
    "for batch in img_gen.flow(X_trainCNN[[4]]*255, batch_size=1,):\n",
    "    i += 1\n",
    "    pd\n",
    "    distorted = np.append(distorted, batch.reshape((28,28)).astype(\"uint8\"))\n",
    "    if i > 20:\n",
    "        break\n",
    "distorted = distorted.reshape((21,28,28))\n",
    "\n"
   ]
  },
  {
   "cell_type": "code",
   "execution_count": 8,
   "metadata": {},
   "outputs": [
    {
     "data": {
      "text/plain": [
       "<matplotlib.image.AxesImage at 0x7f731056db38>"
      ]
     },
     "execution_count": 8,
     "metadata": {},
     "output_type": "execute_result"
    },
    {
     "data": {
      "image/png": "[encoded data removed]",
      "text/plain": [
       "<Figure size 432x288 with 1 Axes>"
      ]
     },
     "metadata": {
      "needs_background": "light"
     },
     "output_type": "display_data"
    }
   ],
   "source": [
    "plt.imshow(gallery(distorted, ncols = 7))\n"
   ]
  },
  {
   "cell_type": "markdown",
   "metadata": {},
   "source": [
    "## Baseline models for NN\n",
    "- Baseline MLP (Simple one Hidden layer network)\n",
    "- Baseline CNN (Simple one CNN layer)"
   ]
  },
  {
   "cell_type": "code",
   "execution_count": 14,
   "metadata": {},
   "outputs": [
    {
     "name": "stdout",
     "output_type": "stream",
     "text": [
      "Model: \"sequential_1\"\n",
      "_________________________________________________________________\n",
      "Layer (type)                 Output Shape              Param #   \n",
      "=================================================================\n",
      "dense_1 (Dense)              (None, 784)               615440    \n",
      "_________________________________________________________________\n",
      "dense_2 (Dense)              (None, 47)                36895     \n",
      "=================================================================\n",
      "Total params: 652,335\n",
      "Trainable params: 652,335\n",
      "Non-trainable params: 0\n",
      "_________________________________________________________________\n"
     ]
    }
   ],
   "source": [
    "def baseline_model():\n",
    "     \n",
    "    model = Sequential()\n",
    "    \n",
    "    model.add(Dense(num_pixels, input_dim=num_pixels, kernel_initializer='normal', activation='relu'))\n",
    "    \n",
    "    model.add(Dense(num_classes, kernel_initializer='normal', activation='softmax'))\n",
    "    \n",
    "    #adam = optimizers.Adam(lr = 0.001)\n",
    "    opt = SGD(lr=0.01, momentum=0.9)\n",
    "    model.compile(optimizer = opt, loss = 'categorical_crossentropy', metrics = ['accuracy'])\n",
    "    return model\n",
    "\n",
    "base_model = baseline_model()\n",
    "base_model.summary()"
   ]
  },
  {
   "cell_type": "code",
   "execution_count": 15,
   "metadata": {
    "scrolled": true
   },
   "outputs": [
    {
     "name": "stdout",
     "output_type": "stream",
     "text": [
      "Epoch 1/30\n",
      "564/564 - 2s - loss: 1.5782 - accuracy: 0.5873 - val_loss: 1.1715 - val_accuracy: 0.6756\n",
      "Epoch 2/30\n",
      "564/564 - 2s - loss: 1.0520 - accuracy: 0.7050 - val_loss: 0.9897 - val_accuracy: 0.7253\n",
      "Epoch 3/30\n",
      "564/564 - 2s - loss: 0.8965 - accuracy: 0.7451 - val_loss: 0.8763 - val_accuracy: 0.7494\n",
      "Epoch 4/30\n",
      "564/564 - 2s - loss: 0.7883 - accuracy: 0.7727 - val_loss: 0.7941 - val_accuracy: 0.7688\n",
      "Epoch 5/30\n",
      "564/564 - 2s - loss: 0.7106 - accuracy: 0.7910 - val_loss: 0.7301 - val_accuracy: 0.7851\n",
      "Epoch 6/30\n",
      "564/564 - 2s - loss: 0.6532 - accuracy: 0.8047 - val_loss: 0.6805 - val_accuracy: 0.8000\n",
      "Epoch 7/30\n",
      "564/564 - 2s - loss: 0.6088 - accuracy: 0.8158 - val_loss: 0.6554 - val_accuracy: 0.8040\n",
      "Epoch 8/30\n",
      "564/564 - 2s - loss: 0.5726 - accuracy: 0.8250 - val_loss: 0.6302 - val_accuracy: 0.8074\n",
      "Epoch 9/30\n",
      "564/564 - 2s - loss: 0.5442 - accuracy: 0.8318 - val_loss: 0.5998 - val_accuracy: 0.8180\n",
      "Epoch 10/30\n",
      "564/564 - 2s - loss: 0.5191 - accuracy: 0.8392 - val_loss: 0.5833 - val_accuracy: 0.8216\n",
      "Epoch 11/30\n",
      "564/564 - 2s - loss: 0.4982 - accuracy: 0.8442 - val_loss: 0.5698 - val_accuracy: 0.8240\n",
      "Epoch 12/30\n",
      "564/564 - 2s - loss: 0.4798 - accuracy: 0.8489 - val_loss: 0.5598 - val_accuracy: 0.8259\n",
      "Epoch 13/30\n",
      "564/564 - 2s - loss: 0.4638 - accuracy: 0.8533 - val_loss: 0.5477 - val_accuracy: 0.8308\n",
      "Epoch 14/30\n",
      "564/564 - 2s - loss: 0.4489 - accuracy: 0.8574 - val_loss: 0.5404 - val_accuracy: 0.8306\n",
      "Epoch 15/30\n",
      "564/564 - 2s - loss: 0.4364 - accuracy: 0.8608 - val_loss: 0.5313 - val_accuracy: 0.8328\n",
      "Epoch 16/30\n",
      "564/564 - 2s - loss: 0.4244 - accuracy: 0.8641 - val_loss: 0.5204 - val_accuracy: 0.8344\n",
      "Epoch 17/30\n",
      "564/564 - 2s - loss: 0.4136 - accuracy: 0.8676 - val_loss: 0.5235 - val_accuracy: 0.8345\n",
      "Epoch 18/30\n",
      "564/564 - 2s - loss: 0.4030 - accuracy: 0.8707 - val_loss: 0.5125 - val_accuracy: 0.8388\n",
      "Epoch 19/30\n",
      "564/564 - 2s - loss: 0.3943 - accuracy: 0.8723 - val_loss: 0.5132 - val_accuracy: 0.8368\n",
      "Epoch 20/30\n",
      "564/564 - 2s - loss: 0.3850 - accuracy: 0.8753 - val_loss: 0.5080 - val_accuracy: 0.8374\n",
      "Epoch 21/30\n",
      "564/564 - 2s - loss: 0.3770 - accuracy: 0.8766 - val_loss: 0.5000 - val_accuracy: 0.8403\n",
      "Epoch 22/30\n",
      "564/564 - 2s - loss: 0.3689 - accuracy: 0.8792 - val_loss: 0.4954 - val_accuracy: 0.8424\n",
      "Epoch 23/30\n",
      "564/564 - 2s - loss: 0.3614 - accuracy: 0.8824 - val_loss: 0.4948 - val_accuracy: 0.8409\n",
      "Epoch 24/30\n",
      "564/564 - 2s - loss: 0.3539 - accuracy: 0.8843 - val_loss: 0.4911 - val_accuracy: 0.8433\n",
      "Epoch 25/30\n",
      "564/564 - 2s - loss: 0.3485 - accuracy: 0.8857 - val_loss: 0.4932 - val_accuracy: 0.8432\n",
      "Epoch 26/30\n",
      "564/564 - 2s - loss: 0.3412 - accuracy: 0.8870 - val_loss: 0.4856 - val_accuracy: 0.8446\n",
      "Epoch 27/30\n",
      "564/564 - 2s - loss: 0.3353 - accuracy: 0.8890 - val_loss: 0.4877 - val_accuracy: 0.8445\n",
      "Epoch 28/30\n",
      "564/564 - 2s - loss: 0.3296 - accuracy: 0.8908 - val_loss: 0.4793 - val_accuracy: 0.8470\n",
      "Epoch 29/30\n",
      "564/564 - 2s - loss: 0.3232 - accuracy: 0.8932 - val_loss: 0.4863 - val_accuracy: 0.8421\n",
      "Epoch 30/30\n",
      "564/564 - 2s - loss: 0.3190 - accuracy: 0.8940 - val_loss: 0.4811 - val_accuracy: 0.8446\n",
      "Baseline Error: 15.54%\n",
      "Test loss for base MLP: 0.4810994267463684 / Test accuracy: 0.8445744514465332\n",
      "CPU times: user 14min 11s, sys: 1min 13s, total: 15min 24s\n",
      "Wall time: 58.4 s\n"
     ]
    }
   ],
   "source": [
    "%%time\n",
    "\n",
    "#Non augmented Train\n",
    "\n",
    "baseMLPHistory = base_model.fit(X_train, y_train, validation_data=(X_test, y_test), epochs=30, batch_size=200, verbose=2)\n",
    "base_scores = base_model.evaluate(X_test, y_test, verbose=0)\n",
    "print(\"Baseline Error: %.2f%%\" % (100-base_scores[1]*100))\n",
    "print(f'Test loss for base MLP: {base_scores[0]} / Test accuracy: {base_scores[1]}')\n"
   ]
  },
  {
   "cell_type": "code",
   "execution_count": 16,
   "metadata": {},
   "outputs": [
    {
     "data": {
      "image/png": "[encoded data removed]",
      "text/plain": [
       "<Figure size 432x288 with 1 Axes>"
      ]
     },
     "metadata": {
      "needs_background": "light"
     },
     "output_type": "display_data"
    },
    {
     "data": {
      "image/png": "[encoded data removed]",
      "text/plain": [
       "<Figure size 432x288 with 1 Axes>"
      ]
     },
     "metadata": {
      "needs_background": "light"
     },
     "output_type": "display_data"
    }
   ],
   "source": [
    "plt.plot(baseMLPHistory.history['accuracy'], label='Training accuracy')\n",
    "plt.plot(baseMLPHistory.history['val_accuracy'], label='Validation accuracy')\n",
    "plt.title('Base MLP model / validation accuracies')\n",
    "plt.ylabel('Accuracy')\n",
    "plt.xlabel('Epoch')\n",
    "plt.legend(loc=\"upper left\")\n",
    "plt.show()\n",
    "\n",
    "plt.plot(baseMLPHistory.history['loss'], label='Training loss')\n",
    "plt.plot(baseMLPHistory.history['val_loss'], label='Validation loss')\n",
    "plt.title('Base MLP model / validation loss values')\n",
    "plt.ylabel('Loss value')\n",
    "plt.xlabel('Epoch')\n",
    "plt.legend(loc=\"upper left\")\n",
    "plt.show()\n"
   ]
  },
  {
   "cell_type": "code",
   "execution_count": 17,
   "metadata": {},
   "outputs": [],
   "source": [
    "def base_CNN():\n",
    "    model = Sequential()\n",
    "    \n",
    "    model.add(Conv2D(32, (3, 3), activation='relu', kernel_initializer='he_uniform', padding='same', input_shape=CNNinput_shape))\n",
    "    model.add(Conv2D(32, (3, 3), activation='relu', kernel_initializer='he_uniform', padding='same'))\n",
    "    model.add(MaxPooling2D((2, 2)))\n",
    "    model.add(Flatten())\n",
    "    model.add(Dense(128, activation='relu', kernel_initializer='he_uniform'))\n",
    "    model.add(Dense(num_classes, activation='softmax'))\n",
    "    \n",
    "    # compile model\n",
    "    opt = SGD(lr=0.01, momentum=0.9)\n",
    "    model.compile(optimizer = opt, loss = 'categorical_crossentropy', metrics = ['accuracy'])\n",
    "    return model"
   ]
  },
  {
   "cell_type": "code",
   "execution_count": 18,
   "metadata": {},
   "outputs": [
    {
     "name": "stdout",
     "output_type": "stream",
     "text": [
      "Model: \"sequential_2\"\n",
      "_________________________________________________________________\n",
      "Layer (type)                 Output Shape              Param #   \n",
      "=================================================================\n",
      "conv2d_7 (Conv2D)            (None, 28, 28, 32)        320       \n",
      "_________________________________________________________________\n",
      "conv2d_8 (Conv2D)            (None, 28, 28, 32)        9248      \n",
      "_________________________________________________________________\n",
      "max_pooling2d (MaxPooling2D) (None, 14, 14, 32)        0         \n",
      "_________________________________________________________________\n",
      "flatten_1 (Flatten)          (None, 6272)              0         \n",
      "_________________________________________________________________\n",
      "dense_3 (Dense)              (None, 128)               802944    \n",
      "_________________________________________________________________\n",
      "dense_4 (Dense)              (None, 47)                6063      \n",
      "=================================================================\n",
      "Total params: 818,575\n",
      "Trainable params: 818,575\n",
      "Non-trainable params: 0\n",
      "_________________________________________________________________\n"
     ]
    }
   ],
   "source": [
    "base_CNN_model = base_CNN()\n",
    "base_CNN_model.summary()"
   ]
  },
  {
   "cell_type": "code",
   "execution_count": 19,
   "metadata": {
    "scrolled": true
   },
   "outputs": [
    {
     "name": "stdout",
     "output_type": "stream",
     "text": [
      "Epoch 1/30\n",
      "564/564 - 21s - loss: 0.9329 - accuracy: 0.7229 - val_loss: 0.5685 - val_accuracy: 0.8183\n",
      "Epoch 2/30\n",
      "564/564 - 21s - loss: 0.4761 - accuracy: 0.8409 - val_loss: 0.4807 - val_accuracy: 0.8387\n",
      "Epoch 3/30\n",
      "564/564 - 21s - loss: 0.4019 - accuracy: 0.8613 - val_loss: 0.4485 - val_accuracy: 0.8495\n",
      "Epoch 4/30\n",
      "564/564 - 21s - loss: 0.3616 - accuracy: 0.8737 - val_loss: 0.4266 - val_accuracy: 0.8591\n",
      "Epoch 5/30\n",
      "564/564 - 21s - loss: 0.3319 - accuracy: 0.8814 - val_loss: 0.4156 - val_accuracy: 0.8583\n",
      "Epoch 6/30\n",
      "564/564 - 21s - loss: 0.3083 - accuracy: 0.8889 - val_loss: 0.4184 - val_accuracy: 0.8582\n",
      "Epoch 7/30\n",
      "564/564 - 21s - loss: 0.2902 - accuracy: 0.8934 - val_loss: 0.4208 - val_accuracy: 0.8601\n",
      "Epoch 8/30\n",
      "564/564 - 21s - loss: 0.2718 - accuracy: 0.9002 - val_loss: 0.4133 - val_accuracy: 0.8636\n",
      "Epoch 9/30\n",
      "564/564 - 21s - loss: 0.2586 - accuracy: 0.9040 - val_loss: 0.4055 - val_accuracy: 0.8651\n",
      "Epoch 10/30\n",
      "564/564 - 21s - loss: 0.2437 - accuracy: 0.9086 - val_loss: 0.4262 - val_accuracy: 0.8612\n",
      "Epoch 11/30\n",
      "564/564 - 21s - loss: 0.2313 - accuracy: 0.9128 - val_loss: 0.4312 - val_accuracy: 0.8635\n",
      "Epoch 12/30\n",
      "564/564 - 21s - loss: 0.2172 - accuracy: 0.9176 - val_loss: 0.4290 - val_accuracy: 0.8645\n",
      "Epoch 13/30\n",
      "564/564 - 21s - loss: 0.2036 - accuracy: 0.9219 - val_loss: 0.4392 - val_accuracy: 0.8647\n",
      "Epoch 14/30\n",
      "564/564 - 21s - loss: 0.1940 - accuracy: 0.9252 - val_loss: 0.4710 - val_accuracy: 0.8624\n",
      "Epoch 15/30\n",
      "564/564 - 21s - loss: 0.1849 - accuracy: 0.9277 - val_loss: 0.4660 - val_accuracy: 0.8593\n",
      "Epoch 16/30\n",
      "564/564 - 21s - loss: 0.1741 - accuracy: 0.9325 - val_loss: 0.4683 - val_accuracy: 0.8635\n",
      "Epoch 17/30\n",
      "564/564 - 22s - loss: 0.1653 - accuracy: 0.9345 - val_loss: 0.4879 - val_accuracy: 0.8600\n",
      "Epoch 18/30\n",
      "564/564 - 21s - loss: 0.1543 - accuracy: 0.9394 - val_loss: 0.5062 - val_accuracy: 0.8589\n",
      "Epoch 19/30\n",
      "564/564 - 21s - loss: 0.1451 - accuracy: 0.9421 - val_loss: 0.5212 - val_accuracy: 0.8559\n",
      "Epoch 20/30\n",
      "564/564 - 22s - loss: 0.1370 - accuracy: 0.9456 - val_loss: 0.5407 - val_accuracy: 0.8564\n",
      "Epoch 21/30\n",
      "564/564 - 21s - loss: 0.1304 - accuracy: 0.9479 - val_loss: 0.5562 - val_accuracy: 0.8595\n",
      "Epoch 22/30\n",
      "564/564 - 21s - loss: 0.1234 - accuracy: 0.9509 - val_loss: 0.5564 - val_accuracy: 0.8586\n",
      "Epoch 23/30\n",
      "564/564 - 21s - loss: 0.1169 - accuracy: 0.9529 - val_loss: 0.5872 - val_accuracy: 0.8585\n",
      "Epoch 24/30\n",
      "564/564 - 21s - loss: 0.1093 - accuracy: 0.9567 - val_loss: 0.5979 - val_accuracy: 0.8571\n",
      "Epoch 25/30\n",
      "564/564 - 21s - loss: 0.1025 - accuracy: 0.9589 - val_loss: 0.6215 - val_accuracy: 0.8554\n",
      "Epoch 26/30\n",
      "564/564 - 21s - loss: 0.0966 - accuracy: 0.9612 - val_loss: 0.6392 - val_accuracy: 0.8556\n",
      "Epoch 27/30\n",
      "564/564 - 22s - loss: 0.0890 - accuracy: 0.9647 - val_loss: 0.6736 - val_accuracy: 0.8522\n",
      "Epoch 28/30\n",
      "564/564 - 21s - loss: 0.0886 - accuracy: 0.9652 - val_loss: 0.6962 - val_accuracy: 0.8569\n",
      "Epoch 29/30\n",
      "564/564 - 21s - loss: 0.0807 - accuracy: 0.9676 - val_loss: 0.7148 - val_accuracy: 0.8509\n",
      "Epoch 30/30\n",
      "564/564 - 22s - loss: 0.0796 - accuracy: 0.9682 - val_loss: 0.7143 - val_accuracy: 0.8540\n",
      "Baseline Error: 14.60%\n",
      "Test loss for base CNN: 0.7142655253410339 / Test accuracy: 0.8539893627166748\n",
      "CPU times: user 4h 58min 39s, sys: 12min 57s, total: 5h 11min 37s\n",
      "Wall time: 10min 35s\n"
     ]
    }
   ],
   "source": [
    "%%time\n",
    "baseCNNHistory = base_CNN_model.fit(X_trainCNN, y_trainCNN, validation_data=(X_testCNN, y_testCNN), epochs=30, batch_size=200, verbose=2)\n",
    "base_CNN_scores = base_CNN_model.evaluate(X_testCNN, y_testCNN, verbose=0)\n",
    "\n",
    "print(\"Baseline Error: %.2f%%\" % (100-base_CNN_scores[1]*100))\n",
    "print(f'Test loss for base CNN: {base_CNN_scores[0]} / Test accuracy: {base_CNN_scores[1]}')"
   ]
  },
  {
   "cell_type": "code",
   "execution_count": 20,
   "metadata": {},
   "outputs": [
    {
     "data": {
      "image/png": "[encoded data removed]",
      "text/plain": [
       "<Figure size 432x288 with 1 Axes>"
      ]
     },
     "metadata": {
      "needs_background": "light"
     },
     "output_type": "display_data"
    },
    {
     "data": {
      "image/png": "[encoded data removed]",
      "text/plain": [
       "<Figure size 432x288 with 1 Axes>"
      ]
     },
     "metadata": {
      "needs_background": "light"
     },
     "output_type": "display_data"
    }
   ],
   "source": [
    "plt.plot(baseCNNHistory.history['accuracy'], label='Training accuracy')\n",
    "plt.plot(baseCNNHistory.history['val_accuracy'], label='Validation accuracy')\n",
    "plt.title('Base CNN model / validation accuracies')\n",
    "plt.ylabel('Accuracy')\n",
    "plt.xlabel('Epoch')\n",
    "plt.legend(loc=\"upper left\")\n",
    "plt.show()\n",
    "\n",
    "plt.plot(baseCNNHistory.history['loss'], label='Training loss')\n",
    "plt.plot(baseCNNHistory.history['val_loss'], label='Validation loss')\n",
    "plt.title('Base CNN model / validation loss values')\n",
    "plt.ylabel('Loss value')\n",
    "plt.xlabel('Epoch')\n",
    "plt.legend(loc=\"upper left\")\n",
    "plt.show()"
   ]
  },
  {
   "cell_type": "code",
   "execution_count": 5,
   "metadata": {},
   "outputs": [],
   "source": [
    "\n",
    "def conv_model():\n",
    "\n",
    "    '''\n",
    "    {784 - [32C3-32C3-32C5S2] - [64C3-64C3-64C5S2] - 128 - 47}\n",
    "    '''\n",
    "    \n",
    "    model = Sequential()\n",
    "    \n",
    "    model.add(Conv2D(32, kernel_size = 3, kernel_initializer='he_uniform',input_shape = CNNinput_shape))\n",
    "    model.add(LeakyReLU(alpha=leaky_relu_alpha))\n",
    "    model.add(BatchNormalization())\n",
    "    \n",
    "    model.add(Conv2D(32, kernel_size = 3, kernel_initializer='he_uniform'))\n",
    "    model.add(LeakyReLU(alpha=leaky_relu_alpha))    \n",
    "    model.add(BatchNormalization())\n",
    "\n",
    "    model.add(Conv2D(32, kernel_size = 5, strides=2, padding='same', kernel_initializer='he_uniform'))\n",
    "    model.add(LeakyReLU(alpha=leaky_relu_alpha))    \n",
    "    model.add(BatchNormalization())\n",
    "    model.add(Dropout(0.5))\n",
    "\n",
    "    \n",
    "    \n",
    "    model.add(Conv2D(64, kernel_size = 3, kernel_initializer='he_uniform'))\n",
    "    model.add(LeakyReLU(alpha=leaky_relu_alpha))\n",
    "    model.add(BatchNormalization())\n",
    "    \n",
    "    model.add(Conv2D(64, kernel_size = 3, kernel_initializer='he_uniform'))\n",
    "    model.add(LeakyReLU(alpha=leaky_relu_alpha))\n",
    "    model.add(BatchNormalization())\n",
    "        \n",
    "    model.add(Conv2D(64, kernel_size = 5, strides=2, padding='same', kernel_initializer='he_uniform'))\n",
    "    model.add(LeakyReLU(alpha=leaky_relu_alpha))\n",
    "    model.add(BatchNormalization())\n",
    "    model.add(Dropout(0.5))\n",
    "    \n",
    "    \n",
    "\n",
    "    model.add(Conv2D(128, kernel_size = 4, kernel_initializer='he_uniform'))\n",
    "    model.add(LeakyReLU(alpha=leaky_relu_alpha))\n",
    "    model.add(BatchNormalization())\n",
    "    \n",
    "    model.add(Flatten())\n",
    "    model.add(Dropout(0.5))\n",
    "               \n",
    "    model.add(Dense(num_classes, activation='softmax'))\n",
    "    \n",
    "    adam = optimizers.Adam(lr = 0.001)\n",
    "    model.compile(optimizer = adam, loss = 'categorical_crossentropy', metrics = ['accuracy'])\n",
    "    \n",
    "    return model"
   ]
  },
  {
   "cell_type": "code",
   "execution_count": 10,
   "metadata": {
    "scrolled": true
   },
   "outputs": [
    {
     "name": "stdout",
     "output_type": "stream",
     "text": [
      "Model: \"sequential\"\n",
      "_________________________________________________________________\n",
      "Layer (type)                 Output Shape              Param #   \n",
      "=================================================================\n",
      "conv2d (Conv2D)              (None, 26, 26, 32)        320       \n",
      "_________________________________________________________________\n",
      "leaky_re_lu (LeakyReLU)      (None, 26, 26, 32)        0         \n",
      "_________________________________________________________________\n",
      "batch_normalization (BatchNo (None, 26, 26, 32)        128       \n",
      "_________________________________________________________________\n",
      "conv2d_1 (Conv2D)            (None, 24, 24, 32)        9248      \n",
      "_________________________________________________________________\n",
      "leaky_re_lu_1 (LeakyReLU)    (None, 24, 24, 32)        0         \n",
      "_________________________________________________________________\n",
      "batch_normalization_1 (Batch (None, 24, 24, 32)        128       \n",
      "_________________________________________________________________\n",
      "conv2d_2 (Conv2D)            (None, 12, 12, 32)        25632     \n",
      "_________________________________________________________________\n",
      "leaky_re_lu_2 (LeakyReLU)    (None, 12, 12, 32)        0         \n",
      "_________________________________________________________________\n",
      "batch_normalization_2 (Batch (None, 12, 12, 32)        128       \n",
      "_________________________________________________________________\n",
      "dropout (Dropout)            (None, 12, 12, 32)        0         \n",
      "_________________________________________________________________\n",
      "conv2d_3 (Conv2D)            (None, 10, 10, 64)        18496     \n",
      "_________________________________________________________________\n",
      "leaky_re_lu_3 (LeakyReLU)    (None, 10, 10, 64)        0         \n",
      "_________________________________________________________________\n",
      "batch_normalization_3 (Batch (None, 10, 10, 64)        256       \n",
      "_________________________________________________________________\n",
      "conv2d_4 (Conv2D)            (None, 8, 8, 64)          36928     \n",
      "_________________________________________________________________\n",
      "leaky_re_lu_4 (LeakyReLU)    (None, 8, 8, 64)          0         \n",
      "_________________________________________________________________\n",
      "batch_normalization_4 (Batch (None, 8, 8, 64)          256       \n",
      "_________________________________________________________________\n",
      "conv2d_5 (Conv2D)            (None, 4, 4, 64)          102464    \n",
      "_________________________________________________________________\n",
      "leaky_re_lu_5 (LeakyReLU)    (None, 4, 4, 64)          0         \n",
      "_________________________________________________________________\n",
      "batch_normalization_5 (Batch (None, 4, 4, 64)          256       \n",
      "_________________________________________________________________\n",
      "dropout_1 (Dropout)          (None, 4, 4, 64)          0         \n",
      "_________________________________________________________________\n",
      "conv2d_6 (Conv2D)            (None, 1, 1, 128)         131200    \n",
      "_________________________________________________________________\n",
      "leaky_re_lu_6 (LeakyReLU)    (None, 1, 1, 128)         0         \n",
      "_________________________________________________________________\n",
      "batch_normalization_6 (Batch (None, 1, 1, 128)         512       \n",
      "_________________________________________________________________\n",
      "flatten (Flatten)            (None, 128)               0         \n",
      "_________________________________________________________________\n",
      "dropout_2 (Dropout)          (None, 128)               0         \n",
      "_________________________________________________________________\n",
      "dense (Dense)                (None, 47)                6063      \n",
      "=================================================================\n",
      "Total params: 332,015\n",
      "Trainable params: 331,183\n",
      "Non-trainable params: 832\n",
      "_________________________________________________________________\n"
     ]
    }
   ],
   "source": [
    "CNN2_model = conv_model()\n",
    "CNN2_model.summary()"
   ]
  },
  {
   "cell_type": "code",
   "execution_count": 11,
   "metadata": {
    "scrolled": true
   },
   "outputs": [
    {
     "name": "stdout",
     "output_type": "stream",
     "text": [
      "           OPERATION           DATA DIMENSIONS   WEIGHTS(N)   WEIGHTS(%)\n",
      "\n",
      "               Input   #####     28   28    1\n",
      "              Conv2D    \\|/  -------------------       320     0.1%\n",
      "                       #####     26   26   32\n",
      "           LeakyReLU   ????? -------------------         0     0.0%\n",
      "                       #####     26   26   32\n",
      "  BatchNormalization    μ|σ  -------------------       128     0.0%\n",
      "                       #####     26   26   32\n",
      "              Conv2D    \\|/  -------------------      9248     2.8%\n",
      "                       #####     24   24   32\n",
      "           LeakyReLU   ????? -------------------         0     0.0%\n",
      "                       #####     24   24   32\n",
      "  BatchNormalization    μ|σ  -------------------       128     0.0%\n",
      "                       #####     24   24   32\n",
      "              Conv2D    \\|/  -------------------     25632     7.7%\n",
      "                       #####     12   12   32\n",
      "           LeakyReLU   ????? -------------------         0     0.0%\n",
      "                       #####     12   12   32\n",
      "  BatchNormalization    μ|σ  -------------------       128     0.0%\n",
      "                       #####     12   12   32\n",
      "             Dropout    | || -------------------         0     0.0%\n",
      "                       #####     12   12   32\n",
      "              Conv2D    \\|/  -------------------     18496     5.6%\n",
      "                       #####     10   10   64\n",
      "           LeakyReLU   ????? -------------------         0     0.0%\n",
      "                       #####     10   10   64\n",
      "  BatchNormalization    μ|σ  -------------------       256     0.1%\n",
      "                       #####     10   10   64\n",
      "              Conv2D    \\|/  -------------------     36928    11.1%\n",
      "                       #####      8    8   64\n",
      "           LeakyReLU   ????? -------------------         0     0.0%\n",
      "                       #####      8    8   64\n",
      "  BatchNormalization    μ|σ  -------------------       256     0.1%\n",
      "                       #####      8    8   64\n",
      "              Conv2D    \\|/  -------------------    102464    30.9%\n",
      "                       #####      4    4   64\n",
      "           LeakyReLU   ????? -------------------         0     0.0%\n",
      "                       #####      4    4   64\n",
      "  BatchNormalization    μ|σ  -------------------       256     0.1%\n",
      "                       #####      4    4   64\n",
      "             Dropout    | || -------------------         0     0.0%\n",
      "                       #####      4    4   64\n",
      "              Conv2D    \\|/  -------------------    131200    39.5%\n",
      "                       #####      1    1  128\n",
      "           LeakyReLU   ????? -------------------         0     0.0%\n",
      "                       #####      1    1  128\n",
      "  BatchNormalization    μ|σ  -------------------       512     0.2%\n",
      "                       #####      1    1  128\n",
      "             Flatten   ||||| -------------------         0     0.0%\n",
      "                       #####         128\n",
      "             Dropout    | || -------------------         0     0.0%\n",
      "                       #####         128\n",
      "               Dense   XXXXX -------------------      6063     1.8%\n",
      "             softmax   #####          47\n"
     ]
    }
   ],
   "source": [
    "from keras_sequential_ascii import keras2ascii\n",
    "keras2ascii(CNN2_model)\n"
   ]
  },
  {
   "cell_type": "code",
   "execution_count": null,
   "metadata": {},
   "outputs": [],
   "source": [
    "CNN2_model = "
   ]
  },
  {
   "cell_type": "code",
   "execution_count": 8,
   "metadata": {
    "scrolled": true
   },
   "outputs": [
    {
     "name": "stdout",
     "output_type": "stream",
     "text": [
      "Epoch 1/75\n",
      "1128/1128 - 90s - loss: 1.1843 - accuracy: 0.6574 - val_loss: 0.4716 - val_accuracy: 0.8378\n",
      "Epoch 2/75\n",
      "1128/1128 - 85s - loss: 0.5610 - accuracy: 0.8124 - val_loss: 0.4397 - val_accuracy: 0.8514\n",
      "Epoch 3/75\n",
      "1128/1128 - 84s - loss: 0.4828 - accuracy: 0.8346 - val_loss: 0.3843 - val_accuracy: 0.8667\n",
      "Epoch 4/75\n",
      "1128/1128 - 89s - loss: 0.4472 - accuracy: 0.8454 - val_loss: 0.3512 - val_accuracy: 0.8764\n",
      "Epoch 5/75\n",
      "1128/1128 - 101s - loss: 0.4230 - accuracy: 0.8529 - val_loss: 0.3451 - val_accuracy: 0.8777\n",
      "Epoch 6/75\n",
      "1128/1128 - 101s - loss: 0.4052 - accuracy: 0.8592 - val_loss: 0.3418 - val_accuracy: 0.8776\n",
      "Epoch 7/75\n",
      "1128/1128 - 100s - loss: 0.3888 - accuracy: 0.8631 - val_loss: 0.3361 - val_accuracy: 0.8819\n",
      "Epoch 8/75\n",
      "1128/1128 - 101s - loss: 0.3806 - accuracy: 0.8658 - val_loss: 0.3365 - val_accuracy: 0.8828\n",
      "Epoch 9/75\n",
      "1128/1128 - 99s - loss: 0.3729 - accuracy: 0.8680 - val_loss: 0.3212 - val_accuracy: 0.8871\n",
      "Epoch 10/75\n",
      "1128/1128 - 101s - loss: 0.3627 - accuracy: 0.8723 - val_loss: 0.3219 - val_accuracy: 0.8860\n",
      "Epoch 11/75\n",
      "1128/1128 - 101s - loss: 0.3549 - accuracy: 0.8732 - val_loss: 0.3093 - val_accuracy: 0.8891\n",
      "Epoch 12/75\n",
      "1128/1128 - 101s - loss: 0.3524 - accuracy: 0.8738 - val_loss: 0.3082 - val_accuracy: 0.8903\n",
      "Epoch 13/75\n",
      "1128/1128 - 99s - loss: 0.3453 - accuracy: 0.8764 - val_loss: 0.3069 - val_accuracy: 0.8903\n",
      "Epoch 14/75\n",
      "1128/1128 - 88s - loss: 0.3410 - accuracy: 0.8781 - val_loss: 0.3038 - val_accuracy: 0.8927\n",
      "Epoch 15/75\n",
      "1128/1128 - 58s - loss: 0.3377 - accuracy: 0.8782 - val_loss: 0.3064 - val_accuracy: 0.8914\n",
      "Epoch 16/75\n",
      "1128/1128 - 59s - loss: 0.3330 - accuracy: 0.8793 - val_loss: 0.3102 - val_accuracy: 0.8922\n",
      "Epoch 17/75\n",
      "1128/1128 - 58s - loss: 0.3281 - accuracy: 0.8810 - val_loss: 0.2982 - val_accuracy: 0.8929\n",
      "Epoch 18/75\n",
      "1128/1128 - 58s - loss: 0.3245 - accuracy: 0.8827 - val_loss: 0.3042 - val_accuracy: 0.8916\n",
      "Epoch 19/75\n",
      "1128/1128 - 60s - loss: 0.3210 - accuracy: 0.8829 - val_loss: 0.2984 - val_accuracy: 0.8938\n",
      "Epoch 20/75\n",
      "1128/1128 - 60s - loss: 0.3162 - accuracy: 0.8843 - val_loss: 0.3056 - val_accuracy: 0.8916\n",
      "Epoch 21/75\n",
      "1128/1128 - 59s - loss: 0.3164 - accuracy: 0.8843 - val_loss: 0.2996 - val_accuracy: 0.8947\n",
      "Epoch 22/75\n",
      "1128/1128 - 60s - loss: 0.3141 - accuracy: 0.8859 - val_loss: 0.2938 - val_accuracy: 0.8934\n",
      "Epoch 23/75\n",
      "1128/1128 - 59s - loss: 0.3094 - accuracy: 0.8878 - val_loss: 0.2890 - val_accuracy: 0.8975\n",
      "Epoch 24/75\n",
      "1128/1128 - 59s - loss: 0.3093 - accuracy: 0.8884 - val_loss: 0.2929 - val_accuracy: 0.8969\n",
      "Epoch 25/75\n",
      "1128/1128 - 60s - loss: 0.3060 - accuracy: 0.8876 - val_loss: 0.2937 - val_accuracy: 0.8941\n",
      "Epoch 26/75\n",
      "1128/1128 - 60s - loss: 0.3043 - accuracy: 0.8889 - val_loss: 0.2980 - val_accuracy: 0.8937\n",
      "Epoch 27/75\n",
      "1128/1128 - 61s - loss: 0.3020 - accuracy: 0.8890 - val_loss: 0.2855 - val_accuracy: 0.8980\n",
      "Epoch 28/75\n",
      "1128/1128 - 60s - loss: 0.2991 - accuracy: 0.8915 - val_loss: 0.2950 - val_accuracy: 0.8978\n",
      "Epoch 29/75\n",
      "1128/1128 - 61s - loss: 0.2986 - accuracy: 0.8891 - val_loss: 0.2976 - val_accuracy: 0.8972\n",
      "Epoch 30/75\n",
      "1128/1128 - 61s - loss: 0.2975 - accuracy: 0.8908 - val_loss: 0.2956 - val_accuracy: 0.8940\n",
      "Epoch 31/75\n",
      "1128/1128 - 59s - loss: 0.2937 - accuracy: 0.8915 - val_loss: 0.2896 - val_accuracy: 0.8978\n",
      "Epoch 32/75\n",
      "1128/1128 - 60s - loss: 0.2933 - accuracy: 0.8932 - val_loss: 0.2938 - val_accuracy: 0.8969\n",
      "Epoch 33/75\n",
      "1128/1128 - 60s - loss: 0.2898 - accuracy: 0.8930 - val_loss: 0.2869 - val_accuracy: 0.8997\n",
      "Epoch 34/75\n",
      "1128/1128 - 59s - loss: 0.2918 - accuracy: 0.8921 - val_loss: 0.2896 - val_accuracy: 0.8970\n",
      "Epoch 35/75\n",
      "1128/1128 - 59s - loss: 0.2872 - accuracy: 0.8945 - val_loss: 0.2934 - val_accuracy: 0.8980\n",
      "Epoch 36/75\n",
      "1128/1128 - 59s - loss: 0.2871 - accuracy: 0.8932 - val_loss: 0.2925 - val_accuracy: 0.8970\n",
      "Epoch 37/75\n",
      "1128/1128 - 59s - loss: 0.2867 - accuracy: 0.8939 - val_loss: 0.2905 - val_accuracy: 0.8982\n",
      "Epoch 38/75\n",
      "1128/1128 - 59s - loss: 0.2844 - accuracy: 0.8946 - val_loss: 0.2902 - val_accuracy: 0.8991\n",
      "Epoch 39/75\n",
      "1128/1128 - 59s - loss: 0.2834 - accuracy: 0.8948 - val_loss: 0.2849 - val_accuracy: 0.8990\n",
      "Epoch 40/75\n",
      "1128/1128 - 59s - loss: 0.2797 - accuracy: 0.8964 - val_loss: 0.2898 - val_accuracy: 0.8994\n",
      "Epoch 41/75\n",
      "1128/1128 - 59s - loss: 0.2816 - accuracy: 0.8944 - val_loss: 0.2874 - val_accuracy: 0.9009\n",
      "Epoch 42/75\n",
      "1128/1128 - 58s - loss: 0.2782 - accuracy: 0.8967 - val_loss: 0.2877 - val_accuracy: 0.9004\n",
      "Epoch 43/75\n",
      "1128/1128 - 58s - loss: 0.2775 - accuracy: 0.8966 - val_loss: 0.2971 - val_accuracy: 0.8969\n",
      "Epoch 44/75\n",
      "1128/1128 - 57s - loss: 0.2753 - accuracy: 0.8973 - val_loss: 0.2921 - val_accuracy: 0.8976\n",
      "Epoch 45/75\n",
      "1128/1128 - 58s - loss: 0.2759 - accuracy: 0.8972 - val_loss: 0.2853 - val_accuracy: 0.8989\n",
      "Epoch 46/75\n",
      "1128/1128 - 58s - loss: 0.2746 - accuracy: 0.8971 - val_loss: 0.2895 - val_accuracy: 0.8988\n",
      "Epoch 47/75\n",
      "1128/1128 - 58s - loss: 0.2758 - accuracy: 0.8964 - val_loss: 0.2890 - val_accuracy: 0.8970\n",
      "Epoch 48/75\n",
      "1128/1128 - 58s - loss: 0.2713 - accuracy: 0.8984 - val_loss: 0.2873 - val_accuracy: 0.9008\n",
      "Epoch 49/75\n",
      "1128/1128 - 58s - loss: 0.2719 - accuracy: 0.8985 - val_loss: 0.2946 - val_accuracy: 0.8987\n",
      "Epoch 50/75\n",
      "1128/1128 - 58s - loss: 0.2714 - accuracy: 0.8983 - val_loss: 0.2896 - val_accuracy: 0.9007\n",
      "Epoch 51/75\n",
      "1128/1128 - 58s - loss: 0.2701 - accuracy: 0.8992 - val_loss: 0.2881 - val_accuracy: 0.9006\n",
      "Epoch 52/75\n",
      "1128/1128 - 58s - loss: 0.2700 - accuracy: 0.8984 - val_loss: 0.2906 - val_accuracy: 0.8990\n",
      "Epoch 53/75\n",
      "1128/1128 - 57s - loss: 0.2690 - accuracy: 0.8988 - val_loss: 0.2910 - val_accuracy: 0.9002\n",
      "Epoch 54/75\n",
      "1128/1128 - 59s - loss: 0.2660 - accuracy: 0.8998 - val_loss: 0.2866 - val_accuracy: 0.9010\n",
      "Epoch 55/75\n",
      "1128/1128 - 58s - loss: 0.2659 - accuracy: 0.8999 - val_loss: 0.2860 - val_accuracy: 0.9006\n",
      "Epoch 56/75\n",
      "1128/1128 - 58s - loss: 0.2659 - accuracy: 0.8997 - val_loss: 0.2921 - val_accuracy: 0.8998\n",
      "Epoch 57/75\n",
      "1128/1128 - 58s - loss: 0.2642 - accuracy: 0.8999 - val_loss: 0.2884 - val_accuracy: 0.9015\n",
      "Epoch 58/75\n",
      "1128/1128 - 58s - loss: 0.2615 - accuracy: 0.9014 - val_loss: 0.2874 - val_accuracy: 0.8989\n",
      "Epoch 59/75\n",
      "1128/1128 - 59s - loss: 0.2611 - accuracy: 0.9020 - val_loss: 0.2895 - val_accuracy: 0.9031\n",
      "Epoch 60/75\n",
      "1128/1128 - 59s - loss: 0.2623 - accuracy: 0.9008 - val_loss: 0.2859 - val_accuracy: 0.9019\n",
      "Epoch 61/75\n",
      "1128/1128 - 58s - loss: 0.2597 - accuracy: 0.9012 - val_loss: 0.2896 - val_accuracy: 0.9004\n",
      "Epoch 62/75\n",
      "1128/1128 - 57s - loss: 0.2615 - accuracy: 0.9011 - val_loss: 0.2875 - val_accuracy: 0.9011\n",
      "Epoch 63/75\n",
      "1128/1128 - 58s - loss: 0.2601 - accuracy: 0.9007 - val_loss: 0.2892 - val_accuracy: 0.8997\n",
      "Epoch 64/75\n",
      "1128/1128 - 58s - loss: 0.2587 - accuracy: 0.9022 - val_loss: 0.2994 - val_accuracy: 0.8988\n",
      "Epoch 65/75\n",
      "1128/1128 - 58s - loss: 0.2567 - accuracy: 0.9033 - val_loss: 0.2874 - val_accuracy: 0.9009\n",
      "Epoch 66/75\n",
      "1128/1128 - 59s - loss: 0.2583 - accuracy: 0.9020 - val_loss: 0.2913 - val_accuracy: 0.8991\n",
      "Epoch 67/75\n",
      "1128/1128 - 59s - loss: 0.2561 - accuracy: 0.9021 - val_loss: 0.2908 - val_accuracy: 0.9021\n",
      "Epoch 68/75\n",
      "1128/1128 - 59s - loss: 0.2564 - accuracy: 0.9026 - val_loss: 0.2901 - val_accuracy: 0.9019\n",
      "Epoch 69/75\n",
      "1128/1128 - 58s - loss: 0.2566 - accuracy: 0.9029 - val_loss: 0.2889 - val_accuracy: 0.8985\n",
      "Epoch 70/75\n",
      "1128/1128 - 58s - loss: 0.2532 - accuracy: 0.9038 - val_loss: 0.2915 - val_accuracy: 0.9004\n",
      "Epoch 71/75\n",
      "1128/1128 - 58s - loss: 0.2525 - accuracy: 0.9036 - val_loss: 0.2914 - val_accuracy: 0.9029\n",
      "Epoch 72/75\n",
      "1128/1128 - 58s - loss: 0.2536 - accuracy: 0.9038 - val_loss: 0.2939 - val_accuracy: 0.9004\n",
      "Epoch 73/75\n",
      "1128/1128 - 58s - loss: 0.2497 - accuracy: 0.9041 - val_loss: 0.2882 - val_accuracy: 0.9011\n",
      "Epoch 74/75\n",
      "1128/1128 - 58s - loss: 0.2530 - accuracy: 0.9033 - val_loss: 0.2878 - val_accuracy: 0.9015\n",
      "Epoch 75/75\n",
      "1128/1128 - 59s - loss: 0.2515 - accuracy: 0.9038 - val_loss: 0.2945 - val_accuracy: 0.9031\n",
      "Baseline Error: 9.69%\n",
      "Test loss for base CNN: 0.2944968044757843 / Test accuracy: 0.9030851125717163\n",
      "CPU times: user 1d 1h 17min 7s, sys: 1h 46min 9s, total: 1d 3h 3min 17s\n",
      "Wall time: 1h 22min 6s\n"
     ]
    }
   ],
   "source": [
    "\n",
    "%%time\n",
    "# No augmented Data\n",
    "\n",
    "CNN2History = CNN2_model.fit(X_trainCNN, y_trainCNN, validation_data=(X_testCNN, y_testCNN), epochs=75, batch_size=100, verbose=2)\n",
    "CNN2_scores = CNN2_model.evaluate(X_testCNN, y_testCNN, verbose=0)\n",
    "\n",
    "print(\"Baseline Error: %.2f%%\" % (100-CNN2_scores[1]*100))\n",
    "print(f'Test loss for base CNN: {CNN2_scores[0]} / Test accuracy: {CNN2_scores[1]}')"
   ]
  },
  {
   "cell_type": "code",
   "execution_count": 9,
   "metadata": {},
   "outputs": [
    {
     "data": {
      "image/png": "[encoded data removed]",
      "text/plain": [
       "<Figure size 432x288 with 1 Axes>"
      ]
     },
     "metadata": {
      "needs_background": "light"
     },
     "output_type": "display_data"
    },
    {
     "data": {
      "image/png": "[encoded data removed]",
      "text/plain": [
       "<Figure size 432x288 with 1 Axes>"
      ]
     },
     "metadata": {
      "needs_background": "light"
     },
     "output_type": "display_data"
    }
   ],
   "source": [
    "plt.plot(CNN2History.history['accuracy'], label='Training accuracy')\n",
    "plt.plot(CNN2History.history['val_accuracy'], label='Validation accuracy')\n",
    "plt.title('CNN2 model / validation accuracies')\n",
    "plt.ylabel('Accuracy')\n",
    "plt.xlabel('Epoch')\n",
    "plt.legend(loc=\"upper left\")\n",
    "plt.show()\n",
    "\n",
    "plt.plot(CNN2History.history['loss'], label='Training loss')\n",
    "plt.plot(CNN2History.history['val_loss'], label='Validation loss')\n",
    "plt.title('CNN2 model / validation loss values')\n",
    "plt.ylabel('Loss value')\n",
    "plt.xlabel('Epoch')\n",
    "plt.legend(loc=\"upper left\")\n",
    "plt.show()"
   ]
  },
  {
   "cell_type": "code",
   "execution_count": 13,
   "metadata": {},
   "outputs": [
    {
     "name": "stdout",
     "output_type": "stream",
     "text": [
      "Saved model to disk\n"
     ]
    }
   ],
   "source": [
    "'''model_json = CNN2_model.to_json()\n",
    "with open(\"model.json\", \"w\") as json_file:\n",
    "    json_file.write(model_json)\n",
    "# serialize weights to HDF5\n",
    "CNN2_model.save_weights(\"model.h5\")\n",
    "print(\"Saved model to disk\")'''"
   ]
  },
  {
   "cell_type": "markdown",
   "metadata": {},
   "source": [
    "## Optimisation (Hyperparameters & Learning rates)"
   ]
  },
  {
   "cell_type": "code",
   "execution_count": null,
   "metadata": {},
   "outputs": [],
   "source": [
    "from sklearn.model_selection import GridSearchCV, RandomizedSearchCV\n",
    "from keras.wrappers.scikit_learn import KerasClassifier"
   ]
  },
  {
   "cell_type": "code",
   "execution_count": null,
   "metadata": {},
   "outputs": [],
   "source": [
    "optmodel = KerasClassifier(build_fn= conv_model, verbose = 0)"
   ]
  },
  {
   "cell_type": "code",
   "execution_count": null,
   "metadata": {},
   "outputs": [],
   "source": [
    "batch_size = [50,100,150,200]\n",
    "init_mode = ['uniform', 'lecun_uniform', 'normal', 'zero', 'glorot_normal', 'glorot_uniform', 'he_normal', 'he_uniform']\n",
    "learn_rate = [0.001, 0.01, 0.1,0.2]\n",
    "dropout_rate = [0.2,0.3,0.4,0.5]"
   ]
  },
  {
   "cell_type": "code",
   "execution_count": null,
   "metadata": {},
   "outputs": [],
   "source": [
    "param_dist = dict(batch_size=batch_size)"
   ]
  },
  {
   "cell_type": "code",
   "execution_count": null,
   "metadata": {},
   "outputs": [],
   "source": [
    "#grid = GridSearchCV(estimator=optmodel, param_grid=param_grid, cv=2)"
   ]
  },
  {
   "cell_type": "code",
   "execution_count": null,
   "metadata": {},
   "outputs": [],
   "source": [
    "random_search = RandomizedSearchCV(estimator=optmodel, param_distributions=param_dist, verbose = 2, cv = 3)\n"
   ]
  },
  {
   "cell_type": "code",
   "execution_count": null,
   "metadata": {},
   "outputs": [],
   "source": [
    "%%time\n",
    "RS_S = random_search.fit(X_trainCNN, y_trainCNN, epochs=10)"
   ]
  },
  {
   "cell_type": "code",
   "execution_count": null,
   "metadata": {},
   "outputs": [],
   "source": [
    "print(\"Best: %f using %s\" % (RS_S.best_score_, RS_S.best_params_))\n",
    "means = RS_S.cv_results_['mean_test_score']\n",
    "stds = RS_S.cv_results_['std_test_score']\n",
    "params = RS_S.cv_results_['params']\n",
    "for mean, stdev, param in zip(means, stds, params):\n",
    "    print(\"%f (%f) with: %r\" % (mean, stdev, param))"
   ]
  },
  {
   "cell_type": "markdown",
   "metadata": {},
   "source": [
    "Things to tune;\n",
    "\n",
    "- Batch size [50,100,150,200]\n",
    "\n",
    "- epochs (plus early stopping) [20,30,40,50] [later]\n",
    "- optimisation learning rate [0.001, 0.01, 0.1,0.2]\n",
    "- activation functions (maybe)\n",
    "- weight initialisation ['uniform', 'lecun_uniform', 'normal', 'zero', 'glorot_normal', 'glorot_uniform', 'he_normal', 'he_uniform']\n",
    "- drop out [0.2,0.3,0.4,0.5]\n"
   ]
  },
  {
   "cell_type": "code",
   "execution_count": null,
   "metadata": {},
   "outputs": [],
   "source": [
    "dropout_rate = 0.4\n",
    "learningrate = 0.001\n",
    "init_mode = 'he_uniform'"
   ]
  },
  {
   "cell_type": "code",
   "execution_count": null,
   "metadata": {},
   "outputs": [],
   "source": [
    "def conv_modelOPT():\n",
    "\n",
    "    '''\n",
    "    {784 - [32C3-32C3-32C5S2] - [64C3-64C3-64C5S2] - 128 - 47}\n",
    "    '''\n",
    "    \n",
    "    model = Sequential()\n",
    "    \n",
    "    model.add(Conv2D(32, kernel_size = 3, input_shape = CNNinput_shape))\n",
    "    model.add(LeakyReLU(alpha=leaky_relu_alpha))\n",
    "    model.add(BatchNormalization())\n",
    "    \n",
    "    model.add(Conv2D(32, kernel_size = 3))\n",
    "    model.add(LeakyReLU(alpha=leaky_relu_alpha))    \n",
    "    model.add(BatchNormalization())\n",
    "\n",
    "    model.add(Conv2D(32, kernel_size = 5, strides=2, padding='same'))\n",
    "    model.add(LeakyReLU(alpha=leaky_relu_alpha))    \n",
    "    model.add(BatchNormalization())\n",
    "    model.add(Dropout(0.4))\n",
    "\n",
    "    \n",
    "    \n",
    "    model.add(Conv2D(64, kernel_size = 3))\n",
    "    model.add(LeakyReLU(alpha=leaky_relu_alpha))\n",
    "    model.add(BatchNormalization())\n",
    "    \n",
    "    model.add(Conv2D(64, kernel_size = 3))\n",
    "    model.add(LeakyReLU(alpha=leaky_relu_alpha))\n",
    "    model.add(BatchNormalization())\n",
    "        \n",
    "    model.add(Conv2D(64, kernel_size = 5, strides=2, padding='same'))\n",
    "    model.add(LeakyReLU(alpha=leaky_relu_alpha))\n",
    "    model.add(BatchNormalization())\n",
    "    model.add(Dropout(0.4))\n",
    "    \n",
    "    \n",
    "\n",
    "    model.add(Conv2D(128, kernel_size = 4))\n",
    "    model.add(LeakyReLU(alpha=leaky_relu_alpha))\n",
    "    model.add(BatchNormalization())\n",
    "    \n",
    "    model.add(Flatten())\n",
    "    model.add(Dropout(0.4))\n",
    "               \n",
    "    model.add(Dense(num_classes, activation='softmax'))\n",
    "    \n",
    "    adam = optimizers.Adam(lr =  0.001)\n",
    "    model.compile(optimizer = adam, loss = 'categorical_crossentropy', metrics = ['accuracy'])\n",
    "    \n",
    "    return model"
   ]
  },
  {
   "cell_type": "code",
   "execution_count": null,
   "metadata": {},
   "outputs": [],
   "source": [
    "optmodel = KerasClassifier(build_fn= conv_modelOPT, verbose = 1)\n",
    "batch_size = [50,100,150,200]\n",
    "param_dist = dict(batch_size=batch_size)\n",
    "random_search = RandomizedSearchCV(estimator=optmodel, param_distributions=param_dist, verbose = 2, cv = 3)\n"
   ]
  },
  {
   "cell_type": "code",
   "execution_count": null,
   "metadata": {},
   "outputs": [],
   "source": [
    "print(\"Best: %f using %s\" % (RS_S1.best_score_, RS_S1.best_params_))\n",
    "means = RS_S1.cv_results_['mean_test_score']\n",
    "stds = RS_S1.cv_results_['std_test_score']\n",
    "params = RS_S1.cv_results_['params']\n",
    "for mean, stdev, param in zip(means, stds, params):\n",
    "    print(\"%f (%f) with: %r\" % (mean, stdev, param))"
   ]
  },
  {
   "cell_type": "code",
   "execution_count": null,
   "metadata": {},
   "outputs": [],
   "source": [
    "dropout_rate = [0.0, 0.1, 0.2]"
   ]
  },
  {
   "cell_type": "code",
   "execution_count": null,
   "metadata": {},
   "outputs": [],
   "source": [
    "def conv_modelOPT2(dropout_rate=0.0):\n",
    "\n",
    "    '''\n",
    "    {784 - [32C3-32C3-32C5S2] - [64C3-64C3-64C5S2] - 128 - 47}\n",
    "    '''\n",
    "    \n",
    "    model = Sequential(dropout_rate = 0.0)\n",
    "    \n",
    "    model.add(Conv2D(32, kernel_size = 3, input_shape = CNNinput_shape))\n",
    "    model.add(LeakyReLU(alpha=leaky_relu_alpha))\n",
    "    model.add(BatchNormalization())\n",
    "    \n",
    "    model.add(Conv2D(32, kernel_size = 3))\n",
    "    model.add(LeakyReLU(alpha=leaky_relu_alpha))    \n",
    "    model.add(BatchNormalization())\n",
    "\n",
    "    model.add(Conv2D(32, kernel_size = 5, strides=2, padding='same'))\n",
    "    model.add(LeakyReLU(alpha=leaky_relu_alpha))    \n",
    "    model.add(BatchNormalization())\n",
    "    model.add(Dropout(dropout_rate))\n",
    "\n",
    "    \n",
    "    \n",
    "    model.add(Conv2D(64, kernel_size = 3))\n",
    "    model.add(LeakyReLU(alpha=leaky_relu_alpha))\n",
    "    model.add(BatchNormalization())\n",
    "    \n",
    "    model.add(Conv2D(64, kernel_size = 3))\n",
    "    model.add(LeakyReLU(alpha=leaky_relu_alpha))\n",
    "    model.add(BatchNormalization())\n",
    "        \n",
    "    model.add(Conv2D(64, kernel_size = 5, strides=2, padding='same'))\n",
    "    model.add(LeakyReLU(alpha=leaky_relu_alpha))\n",
    "    model.add(BatchNormalization())\n",
    "    model.add(Dropout(dropout_rate))\n",
    "    \n",
    "    \n",
    "\n",
    "    model.add(Conv2D(128, kernel_size = 4))\n",
    "    model.add(LeakyReLU(alpha=leaky_relu_alpha))\n",
    "    model.add(BatchNormalization())\n",
    "    \n",
    "    model.add(Flatten())\n",
    "    model.add(Dropout(dropout_rate))\n",
    "               \n",
    "    model.add(Dense(num_classes, activation='softmax'))\n",
    "    \n",
    "    adam = optimizers.Adam(lr =  0.001)\n",
    "    model.compile(optimizer = adam, loss = 'categorical_crossentropy', metrics = ['accuracy'])\n",
    "    \n",
    "    return model"
   ]
  },
  {
   "cell_type": "code",
   "execution_count": null,
   "metadata": {},
   "outputs": [],
   "source": [
    "optmodel2 = KerasClassifier(build_fn= conv_modelOPT2, verbose = 1)\n",
    "dropout = [0.0, 0.1, 0.2]\n",
    "param_dist2 = dict(dropout_rate = dropout)\n",
    "random_search2 = RandomizedSearchCV(estimator=optmodel2, param_distributions=param_dist2,verbose = 2, cv = 3)\n"
   ]
  },
  {
   "cell_type": "code",
   "execution_count": null,
   "metadata": {},
   "outputs": [],
   "source": [
    "%%time\n",
    "\n",
    "model = KerasClassifier(build_fn=conv_modelOPT2,  verbose=2)\n",
    "dropout_rate = [0.0, 0.1, 0.2]\n",
    "param = dict(dropout_rate=dropout_rate)\n",
    "\n",
    "random = RandomizedSearchCV(estimator=model, param_distributions=param,verbose = 2, cv=3)"
   ]
  },
  {
   "cell_type": "code",
   "execution_count": null,
   "metadata": {},
   "outputs": [],
   "source": [
    "%%time\n",
    "\n",
    "random_result = random.fit(X_trainCNN, y_trainCNN,verbose = 2, epochs=20, batch_size=150)\n",
    "\n"
   ]
  },
  {
   "cell_type": "code",
   "execution_count": null,
   "metadata": {},
   "outputs": [],
   "source": [
    "optmodel = KerasClassifier(build_fn= conv_modelOPT, verbose = 1)\n",
    "batch_size = [50,100,150,200]\n",
    "param_dist = dict(batch_size=batch_size)\n",
    "random_search = RandomizedSearchCV(estimator=optmodel, param_distributions=param_dist, verbose = 2, cv = 3)\n"
   ]
  },
  {
   "cell_type": "code",
   "execution_count": null,
   "metadata": {},
   "outputs": [],
   "source": [
    "%%time\n",
    "\n",
    "RS_S2 = random_search2.fit(X_trainCNN, y_trainCNN,verbose = 2, batch_size = 150, epochs=20)"
   ]
  },
  {
   "cell_type": "code",
   "execution_count": null,
   "metadata": {},
   "outputs": [],
   "source": [
    "batch_size = [50,100,150,200]\n",
    "#init_mode = ['uniform', 'lecun_uniform', 'normal', 'zero', 'glorot_normal', 'glorot_uniform', 'he_normal', 'he_uniform']\n",
    "learn_rate = [0.001, 0.01, 0.1,0.2]\n",
    "#dropout_rate = [0.2,0.3,0.4,0.5]\n",
    "#weight_constraint = [1,2,3,4,5]"
   ]
  },
  {
   "cell_type": "code",
   "execution_count": null,
   "metadata": {},
   "outputs": [],
   "source": [
    "param_dist = dict(batch_size=batch_size)\n",
    "\n",
    "#, dropout_rate =dropout_rate, , learn_rate = learn_rate\n",
    "#                  weight_constraint=weight_constraint"
   ]
  },
  {
   "cell_type": "code",
   "execution_count": null,
   "metadata": {},
   "outputs": [],
   "source": [
    "optmodel = KerasClassifier(build_fn=conv_modelOPT, verbose = 2)"
   ]
  },
  {
   "cell_type": "code",
   "execution_count": null,
   "metadata": {},
   "outputs": [],
   "source": [
    "random_search = RandomizedSearchCV(estimator=optmodel, param_distributions=param_dist, verbose = 2, cv = 3, n_jobs= 24)\n"
   ]
  }
 ],
 "metadata": {
  "kernelspec": {
   "display_name": "Python 3",
   "language": "python",
   "name": "python3"
  },
  "language_info": {
   "codemirror_mode": {
    "name": "ipython",
    "version": 3
   },
   "file_extension": ".py",
   "mimetype": "text/x-python",
   "name": "python",
   "nbconvert_exporter": "python",
   "pygments_lexer": "ipython3",
   "version": "3.6.9"
  }
 },
 "nbformat": 4,
 "nbformat_minor": 4
}
