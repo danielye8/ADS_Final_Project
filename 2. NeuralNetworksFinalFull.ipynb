{
 "cells": [
  {
   "cell_type": "markdown",
   "metadata": {},
   "source": [
    "## Libraries"
   ]
  },
  {
   "cell_type": "code",
   "execution_count": 1,
   "metadata": {},
   "outputs": [
    {
     "name": "stderr",
     "output_type": "stream",
     "text": [
      "Using TensorFlow backend.\n"
     ]
    },
    {
     "name": "stdout",
     "output_type": "stream",
     "text": [
      "CPU times: user 2.46 s, sys: 1.44 s, total: 3.9 s\n",
      "Wall time: 45.2 s\n"
     ]
    }
   ],
   "source": [
    "%%time\n",
    "import matplotlib.pyplot as plt\n",
    "from sklearn.model_selection import train_test_split\n",
    "from tensorflow.keras.datasets import mnist\n",
    "from tensorflow.keras.models import Sequential\n",
    "#import tensorflow.keras.utils.to_categorical\n",
    "import numpy as np\n",
    "from sklearn.ensemble import VotingClassifier\n",
    "from sklearn.metrics import accuracy_score\n",
    "from tensorflow.keras.models import Sequential\n",
    "from tensorflow.keras.layers import Activation, Dense\n",
    "from tensorflow.keras import optimizers\n",
    "from tensorflow.keras.layers import BatchNormalization, Dropout\n",
    "from tensorflow.keras.wrappers.scikit_learn import KerasClassifier\n",
    "%matplotlib inline\n",
    "import keras\n",
    "from tensorflow.keras.layers import Flatten\n",
    "from tensorflow.keras.layers import Conv2D, MaxPooling2D\n",
    "from tensorflow.keras import backend as K\n",
    "from tensorflow.keras.layers import LeakyReLU\n",
    "from emnist import extract_training_samples\n",
    "from emnist import extract_test_samples\n",
    "from tensorflow.keras import utils\n",
    "from matplotlib import pyplot\n",
    "from tensorflow.keras.callbacks import EarlyStopping, ModelCheckpoint\n",
    "import pickle\n",
    "from sklearn.model_selection import train_test_split\n",
    "from sklearn.preprocessing import LabelEncoder\n",
    "from PIL import Image\n",
    "from tensorflow.keras.preprocessing.image import ImageDataGenerator\n",
    "from tensorflow.keras.callbacks import LearningRateScheduler, ModelCheckpoint\n",
    "from tensorflow.keras.preprocessing.image import ImageDataGenerator, array_to_img, img_to_array, load_img\n",
    "from tensorflow.keras.utils import plot_model, to_categorical\n",
    "from tensorflow.keras.callbacks import EarlyStopping, ModelCheckpoint\n",
    "import pandas as pd\n",
    "import time\n",
    "import os\n",
    "from numpy import mean\n",
    "from numpy import std\n",
    "from matplotlib import pyplot\n",
    "from sklearn.model_selection import KFold\n",
    "from tensorflow.keras.optimizers import SGD\n",
    "from sklearn.model_selection import GridSearchCV\n",
    "from tensorflow.keras.wrappers.scikit_learn import KerasClassifier"
   ]
  },
  {
   "cell_type": "markdown",
   "metadata": {},
   "source": [
    "## Data Preparations, global parameters and optimisation tunings"
   ]
  },
  {
   "cell_type": "code",
   "execution_count": 2,
   "metadata": {},
   "outputs": [],
   "source": [
    "#Global para's\n",
    "\n",
    "img_width, img_height = 28, 28\n",
    "leaky_relu_alpha = 0.1"
   ]
  },
  {
   "cell_type": "code",
   "execution_count": 3,
   "metadata": {},
   "outputs": [],
   "source": [
    "X_train, y_train = extract_training_samples('balanced')\n",
    "X_test, y_test = extract_test_samples('balanced')\n",
    "\n",
    "num_pixels = X_train.shape[1] * X_train.shape[2]\n",
    "X_train = X_train.reshape((X_train.shape[0], num_pixels)).astype('float32')\n",
    "X_test = X_test.reshape((X_test.shape[0], num_pixels)).astype('float32')\n",
    "\n",
    "X_train = X_train / 255\n",
    "X_test = X_test / 255\n",
    "\n",
    "y_train = utils.to_categorical(y_train)\n",
    "y_test = utils.to_categorical(y_test)\n",
    "num_classes = y_test.shape[1]\n",
    "\n",
    "\n",
    "'''\n",
    "CNN's require a different formal of input data as compared to MLP;\n",
    "this function reshapes the image data accordingly.\n",
    "\n",
    "Reshapring for 3D cnn format since we are using black and white images, gotta made it 3dim.\n",
    "\n",
    "'''\n",
    "\n",
    "img_width, img_height = 28, 28\n",
    "\n",
    "X_trainCNN, y_trainCNN = extract_training_samples('balanced')\n",
    "X_testCNN, y_testCNN = extract_test_samples('balanced')\n",
    "\n",
    "if K.image_data_format() == 'channels_first':\n",
    "    X_trainCNN = X_trainCNN.reshape(X_trainCNN.shape[0], 1, img_width, img_height)\n",
    "    X_testCNN = X_testCNN.reshape(X_testCNN.shape[0], 1, img_width, img_height)\n",
    "    CNNinput_shape = (1, img_width, img_height)\n",
    "else:\n",
    "    X_trainCNN = X_trainCNN.reshape(X_trainCNN.shape[0], img_width, img_height, 1)\n",
    "    X_testCNN = X_testCNN.reshape(X_testCNN.shape[0], img_width, img_height, 1)\n",
    "    CNNinput_shape = (img_width, img_height, 1)\n",
    "    \n",
    "X_trainCNN = X_trainCNN / 255\n",
    "X_testCNN = X_testCNN / 255\n",
    "    \n",
    "y_trainCNN = utils.to_categorical(y_trainCNN)\n",
    "y_testCNN = utils.to_categorical(y_testCNN)"
   ]
  },
  {
   "cell_type": "markdown",
   "metadata": {},
   "source": [
    "### Image Augmentation"
   ]
  },
  {
   "cell_type": "code",
   "execution_count": 4,
   "metadata": {},
   "outputs": [],
   "source": [
    "'''\n",
    "Image rotation of 40 degree's (minics difference angles of writing)\n",
    "Shear, Vertical, Horizontal shifts by 0.08 (minic displacements and cursive fonts)\n",
    "Zoom's in by 0.08 (minics alphabets size difference)\n",
    "\n",
    "'''\n",
    "\n",
    "img_gen = ImageDataGenerator(\n",
    "    featurewise_center=False,  \n",
    "    samplewise_center=False,  \n",
    "    featurewise_std_normalization=False,  \n",
    "    samplewise_std_normalization=False,  \n",
    "    zca_whitening=False,  \n",
    "    rotation_range=40,\n",
    "    #shear_range = 30,\n",
    "    width_shift_range=0.1,\n",
    "    height_shift_range=0.1,\n",
    "    #zoom_range = [-0.5,0.5],\n",
    "    horizontal_flip=False)"
   ]
  },
  {
   "cell_type": "code",
   "execution_count": 5,
   "metadata": {},
   "outputs": [],
   "source": [
    "'''\n",
    "An example of how the image augmentation function can affect our data.\n",
    "'''\n",
    "\n",
    "def gallery(array, ncols=3):\n",
    "    nindex, height, width = array.shape\n",
    "    nrows = nindex//ncols\n",
    "    assert nindex == nrows*ncols\n",
    "    # want result.shape = (height*nrows, width*ncols)\n",
    "    result = (array.reshape(nrows, ncols, height, width)\n",
    "              .swapaxes(1,2)\n",
    "              .reshape(height*nrows, width*ncols))\n",
    "    return result\n",
    "\n",
    "\n",
    "distorted = np.empty(shape = (0,28,28), dtype = \"uint8\")\n",
    "i = 0\n",
    "for batch in img_gen.flow(X_trainCNN[[4]]*255, batch_size=1,):\n",
    "    i += 1\n",
    "    pd\n",
    "    distorted = np.append(distorted, batch.reshape((28,28)).astype(\"uint8\"))\n",
    "    if i > 20:\n",
    "        break\n",
    "distorted = distorted.reshape((21,28,28))\n",
    "\n"
   ]
  },
  {
   "cell_type": "code",
   "execution_count": 6,
   "metadata": {},
   "outputs": [
    {
     "data": {
      "text/plain": [
       "<matplotlib.image.AxesImage at 0x7f4e15b988d0>"
      ]
     },
     "execution_count": 6,
     "metadata": {},
     "output_type": "execute_result"
    },
    {
     "data": {
      "image/png": "[encoded data removed]",
      "text/plain": [
       "<Figure size 432x288 with 1 Axes>"
      ]
     },
     "metadata": {
      "needs_background": "light"
     },
     "output_type": "display_data"
    }
   ],
   "source": [
    "plt.imshow(gallery(distorted, ncols = 7))\n"
   ]
  },
  {
   "cell_type": "markdown",
   "metadata": {},
   "source": [
    "## Baseline models for NN\n",
    "- Baseline MLP (Simple one Hidden layer network)\n",
    "- Baseline CNN (Simple one CNN layer)"
   ]
  },
  {
   "cell_type": "code",
   "execution_count": 7,
   "metadata": {},
   "outputs": [
    {
     "name": "stdout",
     "output_type": "stream",
     "text": [
      "Model: \"sequential\"\n",
      "_________________________________________________________________\n",
      "Layer (type)                 Output Shape              Param #   \n",
      "=================================================================\n",
      "dense (Dense)                (None, 784)               615440    \n",
      "_________________________________________________________________\n",
      "dense_1 (Dense)              (None, 47)                36895     \n",
      "=================================================================\n",
      "Total params: 652,335\n",
      "Trainable params: 652,335\n",
      "Non-trainable params: 0\n",
      "_________________________________________________________________\n"
     ]
    }
   ],
   "source": [
    "def baseline_model():\n",
    "     \n",
    "    model = Sequential()\n",
    "    \n",
    "    model.add(Dense(num_pixels, input_dim=num_pixels, kernel_initializer='normal', activation='relu'))\n",
    "    \n",
    "    model.add(Dense(num_classes, kernel_initializer='normal', activation='softmax'))\n",
    "    \n",
    "    #adam = optimizers.Adam(lr = 0.001)\n",
    "    opt = SGD(lr=0.01, momentum=0.9)\n",
    "    model.compile(optimizer = opt, loss = 'categorical_crossentropy', metrics = ['accuracy'])\n",
    "    return model\n",
    "\n",
    "base_model = baseline_model()\n",
    "base_model.summary()"
   ]
  },
  {
   "cell_type": "code",
   "execution_count": 8,
   "metadata": {
    "scrolled": true
   },
   "outputs": [
    {
     "name": "stdout",
     "output_type": "stream",
     "text": [
      "Epoch 1/30\n",
      "564/564 - 2s - loss: 1.5989 - accuracy: 0.5822 - val_loss: 1.1806 - val_accuracy: 0.6704\n",
      "Epoch 2/30\n",
      "564/564 - 2s - loss: 1.0461 - accuracy: 0.7071 - val_loss: 0.9843 - val_accuracy: 0.7233\n",
      "Epoch 3/30\n",
      "564/564 - 2s - loss: 0.8891 - accuracy: 0.7465 - val_loss: 0.8697 - val_accuracy: 0.7528\n",
      "Epoch 4/30\n",
      "564/564 - 2s - loss: 0.7819 - accuracy: 0.7740 - val_loss: 0.7882 - val_accuracy: 0.7706\n",
      "Epoch 5/30\n",
      "564/564 - 2s - loss: 0.7053 - accuracy: 0.7928 - val_loss: 0.7255 - val_accuracy: 0.7866\n",
      "Epoch 6/30\n",
      "564/564 - 2s - loss: 0.6501 - accuracy: 0.8065 - val_loss: 0.6813 - val_accuracy: 0.7986\n",
      "Epoch 7/30\n",
      "564/564 - 2s - loss: 0.6052 - accuracy: 0.8181 - val_loss: 0.6477 - val_accuracy: 0.8059\n",
      "Epoch 8/30\n",
      "564/564 - 2s - loss: 0.5708 - accuracy: 0.8255 - val_loss: 0.6198 - val_accuracy: 0.8162\n",
      "Epoch 9/30\n",
      "564/564 - 2s - loss: 0.5420 - accuracy: 0.8333 - val_loss: 0.6025 - val_accuracy: 0.8154\n",
      "Epoch 10/30\n",
      "564/564 - 2s - loss: 0.5183 - accuracy: 0.8395 - val_loss: 0.5823 - val_accuracy: 0.8213\n",
      "Epoch 11/30\n",
      "564/564 - 2s - loss: 0.4974 - accuracy: 0.8455 - val_loss: 0.5726 - val_accuracy: 0.8205\n",
      "Epoch 12/30\n",
      "564/564 - 2s - loss: 0.4791 - accuracy: 0.8495 - val_loss: 0.5560 - val_accuracy: 0.8264\n",
      "Epoch 13/30\n",
      "564/564 - 2s - loss: 0.4631 - accuracy: 0.8550 - val_loss: 0.5463 - val_accuracy: 0.8273\n",
      "Epoch 14/30\n",
      "564/564 - 2s - loss: 0.4494 - accuracy: 0.8570 - val_loss: 0.5369 - val_accuracy: 0.8337\n",
      "Epoch 15/30\n",
      "564/564 - 2s - loss: 0.4363 - accuracy: 0.8618 - val_loss: 0.5287 - val_accuracy: 0.8348\n",
      "Epoch 16/30\n",
      "564/564 - 2s - loss: 0.4250 - accuracy: 0.8642 - val_loss: 0.5240 - val_accuracy: 0.8340\n",
      "Epoch 17/30\n",
      "564/564 - 2s - loss: 0.4138 - accuracy: 0.8666 - val_loss: 0.5205 - val_accuracy: 0.8366\n",
      "Epoch 18/30\n",
      "564/564 - 2s - loss: 0.4031 - accuracy: 0.8699 - val_loss: 0.5112 - val_accuracy: 0.8358\n",
      "Epoch 19/30\n",
      "564/564 - 2s - loss: 0.3947 - accuracy: 0.8721 - val_loss: 0.5024 - val_accuracy: 0.8404\n",
      "Epoch 20/30\n",
      "564/564 - 2s - loss: 0.3858 - accuracy: 0.8746 - val_loss: 0.5026 - val_accuracy: 0.8392\n",
      "Epoch 21/30\n",
      "564/564 - 2s - loss: 0.3768 - accuracy: 0.8775 - val_loss: 0.4939 - val_accuracy: 0.8429\n",
      "Epoch 22/30\n",
      "564/564 - 2s - loss: 0.3693 - accuracy: 0.8795 - val_loss: 0.4990 - val_accuracy: 0.8435\n",
      "Epoch 23/30\n",
      "564/564 - 2s - loss: 0.3615 - accuracy: 0.8819 - val_loss: 0.4889 - val_accuracy: 0.8435\n",
      "Epoch 24/30\n",
      "564/564 - 2s - loss: 0.3546 - accuracy: 0.8847 - val_loss: 0.4886 - val_accuracy: 0.8451\n",
      "Epoch 25/30\n",
      "564/564 - 2s - loss: 0.3484 - accuracy: 0.8855 - val_loss: 0.4876 - val_accuracy: 0.8438\n",
      "Epoch 26/30\n",
      "564/564 - 2s - loss: 0.3418 - accuracy: 0.8879 - val_loss: 0.4878 - val_accuracy: 0.8449\n",
      "Epoch 27/30\n",
      "564/564 - 2s - loss: 0.3358 - accuracy: 0.8893 - val_loss: 0.4839 - val_accuracy: 0.8456\n",
      "Epoch 28/30\n",
      "564/564 - 2s - loss: 0.3297 - accuracy: 0.8910 - val_loss: 0.4793 - val_accuracy: 0.8452\n",
      "Epoch 29/30\n",
      "564/564 - 2s - loss: 0.3241 - accuracy: 0.8925 - val_loss: 0.4766 - val_accuracy: 0.8477\n",
      "Epoch 30/30\n",
      "564/564 - 2s - loss: 0.3182 - accuracy: 0.8943 - val_loss: 0.4782 - val_accuracy: 0.8419\n",
      "Baseline Error: 15.81%\n",
      "Test loss for base MLP: 0.4781601130962372 / Test accuracy: 0.8418617248535156\n",
      "CPU times: user 6min 1s, sys: 15.2 s, total: 6min 16s\n",
      "Wall time: 1min 2s\n"
     ]
    }
   ],
   "source": [
    "%%time\n",
    "\n",
    "#Non augmented Train\n",
    "\n",
    "baseMLPHistory = base_model.fit(X_train, y_train, validation_data=(X_test, y_test), epochs=30, batch_size=200, verbose=2)\n",
    "base_scores = base_model.evaluate(X_test, y_test, verbose=0)\n",
    "print(\"Baseline Error: %.2f%%\" % (100-base_scores[1]*100))\n",
    "print(f'Test loss for base MLP: {base_scores[0]} / Test accuracy: {base_scores[1]}')\n"
   ]
  },
  {
   "cell_type": "code",
   "execution_count": 9,
   "metadata": {},
   "outputs": [
    {
     "data": {
      "image/png": "[encoded data removed]",
      "text/plain": [
       "<Figure size 432x288 with 1 Axes>"
      ]
     },
     "metadata": {
      "needs_background": "light"
     },
     "output_type": "display_data"
    },
    {
     "data": {
      "image/png": "[encoded data removed]",
      "text/plain": [
       "<Figure size 432x288 with 1 Axes>"
      ]
     },
     "metadata": {
      "needs_background": "light"
     },
     "output_type": "display_data"
    }
   ],
   "source": [
    "plt.plot(baseMLPHistory.history['accuracy'], label='Training accuracy')\n",
    "plt.plot(baseMLPHistory.history['val_accuracy'], label='Validation accuracy')\n",
    "plt.title('Base MLP model / validation accuracies')\n",
    "plt.ylabel('Accuracy')\n",
    "plt.xlabel('Epoch')\n",
    "plt.legend(loc=\"upper left\")\n",
    "plt.show()\n",
    "\n",
    "plt.plot(baseMLPHistory.history['loss'], label='Training loss')\n",
    "plt.plot(baseMLPHistory.history['val_loss'], label='Validation loss')\n",
    "plt.title('Base MLP model / validation loss values')\n",
    "plt.ylabel('Loss value')\n",
    "plt.xlabel('Epoch')\n",
    "plt.legend(loc=\"upper left\")\n",
    "plt.show()\n"
   ]
  },
  {
   "cell_type": "code",
   "execution_count": 10,
   "metadata": {},
   "outputs": [],
   "source": [
    "def base_CNN():\n",
    "    model = Sequential()\n",
    "    \n",
    "    model.add(Conv2D(32, (3, 3), activation='relu', kernel_initializer='he_uniform', padding='same', input_shape=CNNinput_shape))\n",
    "    model.add(Conv2D(32, (3, 3), activation='relu', kernel_initializer='he_uniform', padding='same'))\n",
    "    model.add(MaxPooling2D((2, 2)))\n",
    "    model.add(Flatten())\n",
    "    model.add(Dense(128, activation='relu', kernel_initializer='he_uniform'))\n",
    "    model.add(Dense(num_classes, activation='softmax'))\n",
    "    \n",
    "    # compile model\n",
    "    opt = SGD(lr=0.01, momentum=0.9)\n",
    "    model.compile(optimizer = opt, loss = 'categorical_crossentropy', metrics = ['accuracy'])\n",
    "    return model"
   ]
  },
  {
   "cell_type": "code",
   "execution_count": 11,
   "metadata": {},
   "outputs": [
    {
     "name": "stdout",
     "output_type": "stream",
     "text": [
      "Model: \"sequential_1\"\n",
      "_________________________________________________________________\n",
      "Layer (type)                 Output Shape              Param #   \n",
      "=================================================================\n",
      "conv2d (Conv2D)              (None, 28, 28, 32)        320       \n",
      "_________________________________________________________________\n",
      "conv2d_1 (Conv2D)            (None, 28, 28, 32)        9248      \n",
      "_________________________________________________________________\n",
      "max_pooling2d (MaxPooling2D) (None, 14, 14, 32)        0         \n",
      "_________________________________________________________________\n",
      "flatten (Flatten)            (None, 6272)              0         \n",
      "_________________________________________________________________\n",
      "dense_2 (Dense)              (None, 128)               802944    \n",
      "_________________________________________________________________\n",
      "dense_3 (Dense)              (None, 47)                6063      \n",
      "=================================================================\n",
      "Total params: 818,575\n",
      "Trainable params: 818,575\n",
      "Non-trainable params: 0\n",
      "_________________________________________________________________\n"
     ]
    }
   ],
   "source": [
    "base_CNN_model = base_CNN()\n",
    "base_CNN_model.summary()"
   ]
  },
  {
   "cell_type": "code",
   "execution_count": 12,
   "metadata": {
    "scrolled": true
   },
   "outputs": [
    {
     "name": "stdout",
     "output_type": "stream",
     "text": [
      "Epoch 1/30\n",
      "564/564 - 30s - loss: 0.9531 - accuracy: 0.7188 - val_loss: 0.5641 - val_accuracy: 0.8190\n",
      "Epoch 2/30\n",
      "564/564 - 29s - loss: 0.4772 - accuracy: 0.8411 - val_loss: 0.4792 - val_accuracy: 0.8433\n",
      "Epoch 3/30\n",
      "564/564 - 29s - loss: 0.4074 - accuracy: 0.8608 - val_loss: 0.4627 - val_accuracy: 0.8480\n",
      "Epoch 4/30\n",
      "564/564 - 29s - loss: 0.3664 - accuracy: 0.8728 - val_loss: 0.4352 - val_accuracy: 0.8539\n",
      "Epoch 5/30\n",
      "564/564 - 29s - loss: 0.3369 - accuracy: 0.8809 - val_loss: 0.4280 - val_accuracy: 0.8599\n",
      "Epoch 6/30\n",
      "564/564 - 29s - loss: 0.3125 - accuracy: 0.8877 - val_loss: 0.4089 - val_accuracy: 0.8617\n",
      "Epoch 7/30\n",
      "564/564 - 29s - loss: 0.2925 - accuracy: 0.8923 - val_loss: 0.4048 - val_accuracy: 0.8641\n",
      "Epoch 8/30\n",
      "564/564 - 28s - loss: 0.2759 - accuracy: 0.8985 - val_loss: 0.4125 - val_accuracy: 0.8633\n",
      "Epoch 9/30\n",
      "564/564 - 29s - loss: 0.2605 - accuracy: 0.9033 - val_loss: 0.4210 - val_accuracy: 0.8580\n",
      "Epoch 10/30\n",
      "564/564 - 28s - loss: 0.2469 - accuracy: 0.9068 - val_loss: 0.4071 - val_accuracy: 0.8649\n",
      "Epoch 11/30\n",
      "564/564 - 28s - loss: 0.2313 - accuracy: 0.9121 - val_loss: 0.4174 - val_accuracy: 0.8623\n",
      "Epoch 12/30\n",
      "564/564 - 29s - loss: 0.2194 - accuracy: 0.9159 - val_loss: 0.4183 - val_accuracy: 0.8662\n",
      "Epoch 13/30\n",
      "564/564 - 28s - loss: 0.2079 - accuracy: 0.9190 - val_loss: 0.4282 - val_accuracy: 0.8639\n",
      "Epoch 14/30\n",
      "564/564 - 29s - loss: 0.1981 - accuracy: 0.9233 - val_loss: 0.4406 - val_accuracy: 0.8639\n",
      "Epoch 15/30\n",
      "564/564 - 28s - loss: 0.1877 - accuracy: 0.9268 - val_loss: 0.4511 - val_accuracy: 0.8610\n",
      "Epoch 16/30\n",
      "564/564 - 28s - loss: 0.1762 - accuracy: 0.9307 - val_loss: 0.4597 - val_accuracy: 0.8609\n",
      "Epoch 17/30\n",
      "564/564 - 28s - loss: 0.1653 - accuracy: 0.9353 - val_loss: 0.4799 - val_accuracy: 0.8610\n",
      "Epoch 18/30\n",
      "564/564 - 28s - loss: 0.1564 - accuracy: 0.9373 - val_loss: 0.4936 - val_accuracy: 0.8582\n",
      "Epoch 19/30\n",
      "564/564 - 28s - loss: 0.1471 - accuracy: 0.9410 - val_loss: 0.4984 - val_accuracy: 0.8603\n",
      "Epoch 20/30\n",
      "564/564 - 28s - loss: 0.1402 - accuracy: 0.9441 - val_loss: 0.5033 - val_accuracy: 0.8605\n",
      "Epoch 21/30\n",
      "564/564 - 28s - loss: 0.1325 - accuracy: 0.9471 - val_loss: 0.5348 - val_accuracy: 0.8564\n",
      "Epoch 22/30\n",
      "564/564 - 27s - loss: 0.1252 - accuracy: 0.9489 - val_loss: 0.5413 - val_accuracy: 0.8595\n",
      "Epoch 23/30\n",
      "564/564 - 26s - loss: 0.1182 - accuracy: 0.9529 - val_loss: 0.5663 - val_accuracy: 0.8582\n",
      "Epoch 24/30\n",
      "564/564 - 26s - loss: 0.1107 - accuracy: 0.9557 - val_loss: 0.5843 - val_accuracy: 0.8547\n",
      "Epoch 25/30\n",
      "564/564 - 25s - loss: 0.1066 - accuracy: 0.9569 - val_loss: 0.6102 - val_accuracy: 0.8551\n",
      "Epoch 26/30\n",
      "564/564 - 25s - loss: 0.1005 - accuracy: 0.9594 - val_loss: 0.6182 - val_accuracy: 0.8564\n",
      "Epoch 27/30\n",
      "564/564 - 26s - loss: 0.0939 - accuracy: 0.9619 - val_loss: 0.6325 - val_accuracy: 0.8556\n",
      "Epoch 28/30\n",
      "564/564 - 26s - loss: 0.0906 - accuracy: 0.9633 - val_loss: 0.6605 - val_accuracy: 0.8539\n",
      "Epoch 29/30\n",
      "564/564 - 25s - loss: 0.0841 - accuracy: 0.9658 - val_loss: 0.6855 - val_accuracy: 0.8562\n",
      "Epoch 30/30\n",
      "564/564 - 25s - loss: 0.0785 - accuracy: 0.9687 - val_loss: 0.7048 - val_accuracy: 0.8532\n",
      "Baseline Error: 14.68%\n",
      "Test loss for base CNN: 0.7047572135925293 / Test accuracy: 0.8531914949417114\n",
      "CPU times: user 2h 14min 59s, sys: 3min 47s, total: 2h 18min 46s\n",
      "Wall time: 13min 59s\n"
     ]
    }
   ],
   "source": [
    "%%time\n",
    "baseCNNHistory = base_CNN_model.fit(X_trainCNN, y_trainCNN, validation_data=(X_testCNN, y_testCNN), epochs=30, batch_size=200, verbose=2)\n",
    "base_CNN_scores = base_CNN_model.evaluate(X_testCNN, y_testCNN, verbose=0)\n",
    "\n",
    "print(\"Baseline Error: %.2f%%\" % (100-base_CNN_scores[1]*100))\n",
    "print(f'Test loss for base CNN: {base_CNN_scores[0]} / Test accuracy: {base_CNN_scores[1]}')"
   ]
  },
  {
   "cell_type": "code",
   "execution_count": 13,
   "metadata": {},
   "outputs": [
    {
     "data": {
      "image/png": "[encoded data removed]",
      "text/plain": [
       "<Figure size 432x288 with 1 Axes>"
      ]
     },
     "metadata": {
      "needs_background": "light"
     },
     "output_type": "display_data"
    },
    {
     "data": {
      "image/png": "[encoded data removed]",
      "text/plain": [
       "<Figure size 432x288 with 1 Axes>"
      ]
     },
     "metadata": {
      "needs_background": "light"
     },
     "output_type": "display_data"
    }
   ],
   "source": [
    "plt.plot(baseCNNHistory.history['accuracy'], label='Training accuracy')\n",
    "plt.plot(baseCNNHistory.history['val_accuracy'], label='Validation accuracy')\n",
    "plt.title('Base CNN model / validation accuracies')\n",
    "plt.ylabel('Accuracy')\n",
    "plt.xlabel('Epoch')\n",
    "plt.legend(loc=\"upper left\")\n",
    "plt.show()\n",
    "\n",
    "plt.plot(baseCNNHistory.history['loss'], label='Training loss')\n",
    "plt.plot(baseCNNHistory.history['val_loss'], label='Validation loss')\n",
    "plt.title('Base CNN model / validation loss values')\n",
    "plt.ylabel('Loss value')\n",
    "plt.xlabel('Epoch')\n",
    "plt.legend(loc=\"upper left\")\n",
    "plt.show()"
   ]
  },
  {
   "cell_type": "code",
   "execution_count": null,
   "metadata": {},
   "outputs": [],
   "source": [
    "\n",
    "def conv_model():\n",
    "\n",
    "    '''\n",
    "    {784 - [32C3-32C3-32C5S2] - [64C3-64C3-64C5S2] - 128 - 47}\n",
    "    '''\n",
    "    \n",
    "    model = Sequential()\n",
    "    \n",
    "    model.add(Conv2D(32, kernel_size = 3,input_shape = CNNinput_shape))\n",
    "    model.add(LeakyReLU(alpha=leaky_relu_alpha))\n",
    "    model.add(BatchNormalization())\n",
    "    \n",
    "    model.add(Conv2D(32, kernel_size = 3))\n",
    "    model.add(LeakyReLU(alpha=leaky_relu_alpha))    \n",
    "    model.add(BatchNormalization())\n",
    "\n",
    "    model.add(Conv2D(32, kernel_size = 5, strides=2, padding='same'))\n",
    "    model.add(LeakyReLU(alpha=leaky_relu_alpha))    \n",
    "    model.add(BatchNormalization())\n",
    "    model.add(Dropout(0.5))\n",
    "\n",
    "    \n",
    "    \n",
    "    model.add(Conv2D(64, kernel_size = 3))\n",
    "    model.add(LeakyReLU(alpha=leaky_relu_alpha))\n",
    "    model.add(BatchNormalization())\n",
    "    \n",
    "    model.add(Conv2D(64, kernel_size = 3))\n",
    "    model.add(LeakyReLU(alpha=leaky_relu_alpha))\n",
    "    model.add(BatchNormalization())\n",
    "        \n",
    "    model.add(Conv2D(64, kernel_size = 5, strides=2, padding='same'))\n",
    "    model.add(LeakyReLU(alpha=leaky_relu_alpha))\n",
    "    model.add(BatchNormalization())\n",
    "    model.add(Dropout(0.5))\n",
    "    \n",
    "    \n",
    "\n",
    "    model.add(Conv2D(128, kernel_size = 4))\n",
    "    model.add(LeakyReLU(alpha=leaky_relu_alpha))\n",
    "    model.add(BatchNormalization())\n",
    "    \n",
    "    model.add(Flatten())\n",
    "    model.add(Dropout(0.5))\n",
    "               \n",
    "    model.add(Dense(num_classes, activation='softmax'))\n",
    "    \n",
    "    adam = optimizers.Adam(lr = 0.001)\n",
    "    model.compile(optimizer = adam, loss = 'categorical_crossentropy', metrics = ['accuracy'])\n",
    "    \n",
    "    return model"
   ]
  },
  {
   "cell_type": "code",
   "execution_count": null,
   "metadata": {
    "scrolled": true
   },
   "outputs": [],
   "source": [
    "CNN2_model = conv_model()\n",
    "CNN2_model.summary()"
   ]
  },
  {
   "cell_type": "code",
   "execution_count": null,
   "metadata": {
    "scrolled": true
   },
   "outputs": [],
   "source": [
    "from keras_sequential_ascii import keras2ascii\n",
    "keras2ascii(CNN2_model)\n"
   ]
  },
  {
   "cell_type": "code",
   "execution_count": null,
   "metadata": {
    "scrolled": true
   },
   "outputs": [],
   "source": [
    "\n",
    "%%time\n",
    "# No augmented Data\n",
    "\n",
    "CNN2History = CNN2_model.fit(X_trainCNN, y_trainCNN, validation_data=(X_testCNN, y_testCNN), epochs=75, batch_size=100, verbose=2)\n",
    "CNN2_scores = CNN2_model.evaluate(X_testCNN, y_testCNN, verbose=0)\n",
    "\n",
    "print(\"Baseline Error: %.2f%%\" % (100-CNN2_scores[1]*100))\n",
    "print(f'Test loss for base CNN: {CNN2_scores[0]} / Test accuracy: {CNN2_scores[1]}')"
   ]
  },
  {
   "cell_type": "code",
   "execution_count": null,
   "metadata": {},
   "outputs": [],
   "source": [
    "plt.plot(CNN2History.history['accuracy'], label='Training accuracy')\n",
    "plt.plot(CNN2History.history['val_accuracy'], label='Validation accuracy')\n",
    "plt.title('CNN2 model / validation accuracies')\n",
    "plt.ylabel('Accuracy')\n",
    "plt.xlabel('Epoch')\n",
    "plt.legend(loc=\"upper left\")\n",
    "plt.show()\n",
    "\n",
    "plt.plot(CNN2History.history['loss'], label='Training loss')\n",
    "plt.plot(CNN2History.history['val_loss'], label='Validation loss')\n",
    "plt.title('CNN2 model / validation loss values')\n",
    "plt.ylabel('Loss value')\n",
    "plt.xlabel('Epoch')\n",
    "plt.legend(loc=\"upper left\")\n",
    "plt.show()"
   ]
  },
  {
   "cell_type": "code",
   "execution_count": null,
   "metadata": {},
   "outputs": [],
   "source": [
    "'''model_json = CNN2_model.to_json()\n",
    "with open(\"model.json\", \"w\") as json_file:\n",
    "    json_file.write(model_json)\n",
    "# serialize weights to HDF5\n",
    "CNN2_model.save_weights(\"model.h5\")\n",
    "print(\"Saved model to disk\")'''"
   ]
  },
  {
   "cell_type": "markdown",
   "metadata": {},
   "source": [
    "## Optimisation (Hyperparameters & Learning rates)"
   ]
  },
  {
   "cell_type": "code",
   "execution_count": null,
   "metadata": {},
   "outputs": [],
   "source": [
    "from sklearn.model_selection import GridSearchCV, RandomizedSearchCV\n",
    "from keras.wrappers.scikit_learn import KerasClassifier"
   ]
  },
  {
   "cell_type": "code",
   "execution_count": null,
   "metadata": {},
   "outputs": [],
   "source": [
    "optmodel = KerasClassifier(build_fn= conv_model, verbose = 0)"
   ]
  },
  {
   "cell_type": "code",
   "execution_count": null,
   "metadata": {},
   "outputs": [],
   "source": [
    "batch_size = [50,100,150,200]\n",
    "init_mode = ['uniform', 'lecun_uniform', 'normal', 'zero', 'glorot_normal', 'glorot_uniform', 'he_normal', 'he_uniform']\n",
    "learn_rate = [0.001, 0.01, 0.1,0.2]\n",
    "dropout_rate = [0.2,0.3,0.4,0.5]"
   ]
  },
  {
   "cell_type": "code",
   "execution_count": null,
   "metadata": {},
   "outputs": [],
   "source": [
    "param_dist = dict(batch_size=batch_size)"
   ]
  },
  {
   "cell_type": "code",
   "execution_count": null,
   "metadata": {},
   "outputs": [],
   "source": [
    "#grid = GridSearchCV(estimator=optmodel, param_grid=param_grid, cv=2)"
   ]
  },
  {
   "cell_type": "code",
   "execution_count": null,
   "metadata": {},
   "outputs": [],
   "source": [
    "random_search = RandomizedSearchCV(estimator=optmodel, param_distributions=param_dist, verbose = 2, cv = 3)\n"
   ]
  },
  {
   "cell_type": "code",
   "execution_count": null,
   "metadata": {},
   "outputs": [],
   "source": [
    "%%time\n",
    "RS_S = random_search.fit(X_trainCNN, y_trainCNN, epochs=10)"
   ]
  },
  {
   "cell_type": "code",
   "execution_count": null,
   "metadata": {},
   "outputs": [],
   "source": [
    "print(\"Best: %f using %s\" % (RS_S.best_score_, RS_S.best_params_))\n",
    "means = RS_S.cv_results_['mean_test_score']\n",
    "stds = RS_S.cv_results_['std_test_score']\n",
    "params = RS_S.cv_results_['params']\n",
    "for mean, stdev, param in zip(means, stds, params):\n",
    "    print(\"%f (%f) with: %r\" % (mean, stdev, param))"
   ]
  },
  {
   "cell_type": "markdown",
   "metadata": {},
   "source": [
    "Things to tune;\n",
    "\n",
    "- Batch size [50,100,150,200]\n",
    "\n",
    "- epochs (plus early stopping) [20,30,40,50] [later]\n",
    "- optimisation learning rate [0.001, 0.01, 0.1,0.2]\n",
    "- activation functions (maybe)\n",
    "- weight initialisation ['uniform', 'lecun_uniform', 'normal', 'zero', 'glorot_normal', 'glorot_uniform', 'he_normal', 'he_uniform']\n",
    "- drop out [0.2,0.3,0.4,0.5]\n"
   ]
  },
  {
   "cell_type": "code",
   "execution_count": null,
   "metadata": {},
   "outputs": [],
   "source": [
    "dropout_rate = 0.4\n",
    "learningrate = 0.001\n",
    "init_mode = 'he_uniform'"
   ]
  },
  {
   "cell_type": "code",
   "execution_count": null,
   "metadata": {},
   "outputs": [],
   "source": [
    "def conv_modelOPT():\n",
    "\n",
    "    '''\n",
    "    {784 - [32C3-32C3-32C5S2] - [64C3-64C3-64C5S2] - 128 - 47}\n",
    "    '''\n",
    "    \n",
    "    model = Sequential()\n",
    "    \n",
    "    model.add(Conv2D(32, kernel_size = 3, input_shape = CNNinput_shape))\n",
    "    model.add(LeakyReLU(alpha=leaky_relu_alpha))\n",
    "    model.add(BatchNormalization())\n",
    "    \n",
    "    model.add(Conv2D(32, kernel_size = 3))\n",
    "    model.add(LeakyReLU(alpha=leaky_relu_alpha))    \n",
    "    model.add(BatchNormalization())\n",
    "\n",
    "    model.add(Conv2D(32, kernel_size = 5, strides=2, padding='same'))\n",
    "    model.add(LeakyReLU(alpha=leaky_relu_alpha))    \n",
    "    model.add(BatchNormalization())\n",
    "    model.add(Dropout(0.4))\n",
    "\n",
    "    \n",
    "    \n",
    "    model.add(Conv2D(64, kernel_size = 3))\n",
    "    model.add(LeakyReLU(alpha=leaky_relu_alpha))\n",
    "    model.add(BatchNormalization())\n",
    "    \n",
    "    model.add(Conv2D(64, kernel_size = 3))\n",
    "    model.add(LeakyReLU(alpha=leaky_relu_alpha))\n",
    "    model.add(BatchNormalization())\n",
    "        \n",
    "    model.add(Conv2D(64, kernel_size = 5, strides=2, padding='same'))\n",
    "    model.add(LeakyReLU(alpha=leaky_relu_alpha))\n",
    "    model.add(BatchNormalization())\n",
    "    model.add(Dropout(0.4))\n",
    "    \n",
    "    \n",
    "\n",
    "    model.add(Conv2D(128, kernel_size = 4))\n",
    "    model.add(LeakyReLU(alpha=leaky_relu_alpha))\n",
    "    model.add(BatchNormalization())\n",
    "    \n",
    "    model.add(Flatten())\n",
    "    model.add(Dropout(0.4))\n",
    "               \n",
    "    model.add(Dense(num_classes, activation='softmax'))\n",
    "    \n",
    "    adam = optimizers.Adam(lr =  0.001)\n",
    "    model.compile(optimizer = adam, loss = 'categorical_crossentropy', metrics = ['accuracy'])\n",
    "    \n",
    "    return model"
   ]
  },
  {
   "cell_type": "code",
   "execution_count": null,
   "metadata": {},
   "outputs": [],
   "source": [
    "optmodel = KerasClassifier(build_fn= conv_modelOPT, verbose = 1)\n",
    "batch_size = [50,100,150,200]\n",
    "param_dist = dict(batch_size=batch_size)\n",
    "random_search = RandomizedSearchCV(estimator=optmodel, param_distributions=param_dist, verbose = 2, cv = 3)\n"
   ]
  },
  {
   "cell_type": "code",
   "execution_count": null,
   "metadata": {},
   "outputs": [],
   "source": [
    "print(\"Best: %f using %s\" % (RS_S1.best_score_, RS_S1.best_params_))\n",
    "means = RS_S1.cv_results_['mean_test_score']\n",
    "stds = RS_S1.cv_results_['std_test_score']\n",
    "params = RS_S1.cv_results_['params']\n",
    "for mean, stdev, param in zip(means, stds, params):\n",
    "    print(\"%f (%f) with: %r\" % (mean, stdev, param))"
   ]
  },
  {
   "cell_type": "code",
   "execution_count": null,
   "metadata": {},
   "outputs": [],
   "source": [
    "dropout_rate = [0.0, 0.1, 0.2]"
   ]
  },
  {
   "cell_type": "code",
   "execution_count": null,
   "metadata": {},
   "outputs": [],
   "source": [
    "def conv_modelOPT2(dropout_rate=0.0):\n",
    "\n",
    "    '''\n",
    "    {784 - [32C3-32C3-32C5S2] - [64C3-64C3-64C5S2] - 128 - 47}\n",
    "    '''\n",
    "    \n",
    "    model = Sequential(dropout_rate = 0.0)\n",
    "    \n",
    "    model.add(Conv2D(32, kernel_size = 3, input_shape = CNNinput_shape))\n",
    "    model.add(LeakyReLU(alpha=leaky_relu_alpha))\n",
    "    model.add(BatchNormalization())\n",
    "    \n",
    "    model.add(Conv2D(32, kernel_size = 3))\n",
    "    model.add(LeakyReLU(alpha=leaky_relu_alpha))    \n",
    "    model.add(BatchNormalization())\n",
    "\n",
    "    model.add(Conv2D(32, kernel_size = 5, strides=2, padding='same'))\n",
    "    model.add(LeakyReLU(alpha=leaky_relu_alpha))    \n",
    "    model.add(BatchNormalization())\n",
    "    model.add(Dropout(dropout_rate))\n",
    "\n",
    "    \n",
    "    \n",
    "    model.add(Conv2D(64, kernel_size = 3))\n",
    "    model.add(LeakyReLU(alpha=leaky_relu_alpha))\n",
    "    model.add(BatchNormalization())\n",
    "    \n",
    "    model.add(Conv2D(64, kernel_size = 3))\n",
    "    model.add(LeakyReLU(alpha=leaky_relu_alpha))\n",
    "    model.add(BatchNormalization())\n",
    "        \n",
    "    model.add(Conv2D(64, kernel_size = 5, strides=2, padding='same'))\n",
    "    model.add(LeakyReLU(alpha=leaky_relu_alpha))\n",
    "    model.add(BatchNormalization())\n",
    "    model.add(Dropout(dropout_rate))\n",
    "    \n",
    "    \n",
    "\n",
    "    model.add(Conv2D(128, kernel_size = 4))\n",
    "    model.add(LeakyReLU(alpha=leaky_relu_alpha))\n",
    "    model.add(BatchNormalization())\n",
    "    \n",
    "    model.add(Flatten())\n",
    "    model.add(Dropout(dropout_rate))\n",
    "               \n",
    "    model.add(Dense(num_classes, activation='softmax'))\n",
    "    \n",
    "    adam = optimizers.Adam(lr =  0.001)\n",
    "    model.compile(optimizer = adam, loss = 'categorical_crossentropy', metrics = ['accuracy'])\n",
    "    \n",
    "    return model"
   ]
  },
  {
   "cell_type": "code",
   "execution_count": null,
   "metadata": {},
   "outputs": [],
   "source": [
    "optmodel2 = KerasClassifier(build_fn= conv_modelOPT2, verbose = 1)\n",
    "dropout = [0.0, 0.1, 0.2]\n",
    "param_dist2 = dict(dropout_rate = dropout)\n",
    "random_search2 = RandomizedSearchCV(estimator=optmodel2, param_distributions=param_dist2,verbose = 2, cv = 3)\n"
   ]
  },
  {
   "cell_type": "code",
   "execution_count": null,
   "metadata": {},
   "outputs": [],
   "source": [
    "%%time\n",
    "\n",
    "model = KerasClassifier(build_fn=conv_modelOPT2,  verbose=2)\n",
    "dropout_rate = [0.0, 0.1, 0.2]\n",
    "param = dict(dropout_rate=dropout_rate)\n",
    "\n",
    "random = RandomizedSearchCV(estimator=model, param_distributions=param,verbose = 2, cv=3)"
   ]
  },
  {
   "cell_type": "code",
   "execution_count": null,
   "metadata": {},
   "outputs": [],
   "source": [
    "%%time\n",
    "\n",
    "random_result = random.fit(X_trainCNN, y_trainCNN,verbose = 2, epochs=20, batch_size=150)\n",
    "\n"
   ]
  },
  {
   "cell_type": "code",
   "execution_count": null,
   "metadata": {},
   "outputs": [],
   "source": [
    "optmodel = KerasClassifier(build_fn= conv_modelOPT, verbose = 1)\n",
    "batch_size = [50,100,150,200]\n",
    "param_dist = dict(batch_size=batch_size)\n",
    "random_search = RandomizedSearchCV(estimator=optmodel, param_distributions=param_dist, verbose = 2, cv = 3)\n"
   ]
  },
  {
   "cell_type": "code",
   "execution_count": null,
   "metadata": {},
   "outputs": [],
   "source": [
    "%%time\n",
    "\n",
    "RS_S2 = random_search2.fit(X_trainCNN, y_trainCNN,verbose = 2, batch_size = 150, epochs=20)"
   ]
  },
  {
   "cell_type": "code",
   "execution_count": null,
   "metadata": {},
   "outputs": [],
   "source": [
    "batch_size = [50,100,150,200]\n",
    "#init_mode = ['uniform', 'lecun_uniform', 'normal', 'zero', 'glorot_normal', 'glorot_uniform', 'he_normal', 'he_uniform']\n",
    "learn_rate = [0.001, 0.01, 0.1,0.2]\n",
    "#dropout_rate = [0.2,0.3,0.4,0.5]\n",
    "#weight_constraint = [1,2,3,4,5]"
   ]
  },
  {
   "cell_type": "code",
   "execution_count": null,
   "metadata": {},
   "outputs": [],
   "source": [
    "param_dist = dict(batch_size=batch_size)\n",
    "\n",
    "#, dropout_rate =dropout_rate, , learn_rate = learn_rate\n",
    "#                  weight_constraint=weight_constraint"
   ]
  },
  {
   "cell_type": "code",
   "execution_count": null,
   "metadata": {},
   "outputs": [],
   "source": [
    "optmodel = KerasClassifier(build_fn=conv_modelOPT, verbose = 2)"
   ]
  },
  {
   "cell_type": "code",
   "execution_count": null,
   "metadata": {},
   "outputs": [],
   "source": [
    "random_search = RandomizedSearchCV(estimator=optmodel, param_distributions=param_dist, verbose = 2, cv = 3, n_jobs= 24)\n"
   ]
  }
 ],
 "metadata": {
  "kernelspec": {
   "display_name": "Python 3",
   "language": "python",
   "name": "python3"
  },
  "language_info": {
   "codemirror_mode": {
    "name": "ipython",
    "version": 3
   },
   "file_extension": ".py",
   "mimetype": "text/x-python",
   "name": "python",
   "nbconvert_exporter": "python",
   "pygments_lexer": "ipython3",
   "version": "3.6.9"
  }
 },
 "nbformat": 4,
 "nbformat_minor": 4
}
